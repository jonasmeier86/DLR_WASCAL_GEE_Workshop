{
 "cells": [
  {
   "cell_type": "markdown",
   "id": "ba54d3cc",
   "metadata": {},
   "source": [
    "# Landuse and landcover dataset\n",
    "\n",
    "Possible dataset\n",
    "\n",
    "1. African land cover (20m)\n",
    "https://www.copernicus.eu/en/media/images/african-land-cover\n",
    "  Sentinel-2A images (2016)\n",
    "\n",
    "\n",
    "2. Copernicus Global Land Cover Layers: CGLS-LC100 collection 3 (100m)\n",
    "https://developers.google.com/earth-engine/datasets/catalog/COPERNICUS_Landcover_100m_Proba-V-C3_Global\n",
    "  PROBA-V 100 m time-series \n",
    "  (2015-01-01 ~ 2019-12-31)\n",
    "\n",
    "\n",
    "3. PML_V2: Coupled Evapotranspiration and Gross Primary Product (500m)\n",
    "https://developers.google.com/earth-engine/datasets/catalog/CAS_IGSNRR_PML_V2\n",
    "  Evapotranspiration(ET), Gross primary product(GPP)\n",
    "  (2002-07-04 ~ 2017-12-27）\n",
    "\n",
    "\n",
    "4. SRTM Digital Elevation Data Version 4 (90m)\n",
    "https://developers.google.com/earth-engine/datasets/catalog/CGIAR_SRTM90_V4#terms-of-use\n",
    "  elevation \n",
    "  (2000-02-11 ~ 2000-02-22)\n",
    "\n",
    "\n",
    "5. GPWv411: Basic Demographic Characteristics (Gridded PopulatCSP gHM: Global Human Modificationion of the World Version 4.11) (1km)\n",
    "https://developers.google.com/earth-engine/datasets/catalog/CIESIN_GPWv411_GPW_Basic_Demographic_Characteristics#description\n",
    "  population\n",
    "  (2000-01-01 ~ 2020-01-01)\n",
    "\n",
    "\n",
    "6. CSP gHM: Global Human Modification (1km)\n",
    "https://developers.google.com/earth-engine/datasets/catalog/CSP_HM_GlobalHumanModification#bands\n",
    "  global human modification\n",
    "  (2016-01-01 ~ 2016-12-31)\n",
    "\n",
    "\n",
    "7. FireCCI51: MODIS Fire_cci Burned Area Pixel product, version 5.1 (0.00224573 arc degrees)\n",
    "https://developers.google.com/earth-engine/datasets/catalog/ESA_CCI_FireCCI_5_1#description\n",
    "  Burndate; Landcover of burned pixels\n",
    "  (2011-01-01 ~ 2019-12-31)\n",
    "\n",
    "\n",
    "8. GlobCover: Global Land Cover Map (300m)\n",
    "https://developers.google.com/earth-engine/datasets/catalog/ESA_GLOBCOVER_L4_200901_200912_V2_3#bands\n",
    "  landcover\n",
    "  (2009-01-01 ~ 2010-01-01)\n",
    "\n",
    "\n",
    "9. Global PALSAR-2/PALSAR Forest/Non-Forest Map (25m)\n",
    "https://developers.google.com/earth-engine/datasets/catalog/JAXA_ALOS_PALSAR_YEARLY_FNF\n",
    "  forest and non-forest landcover classification\n",
    "  (2007-01-01 ~ 2018-01-01)\n",
    "\n",
    "\n",
    "10. MCD12Q1.006 MODIS Land Cover Type Yearly Global （500m） \n",
    "https://developers.google.com/earth-engine/datasets/catalog/MODIS_006_MCD12Q1#bands\n",
    "  landcover\n",
    "  (2001-01-01 ~ 2019-01-01)\n",
    "\n",
    "\n",
    "11. Oxford MAP: Malaria Atlas Project Fractional International Geosphere-Biosphere Programme Landcover (5000m)\n",
    "https://developers.google.com/earth-engine/datasets/catalog/Oxford_MAP_IGBP_Fractional_Landcover_5km_Annual\n",
    "  landcover\n",
    "  (2001-01-01 ~ 2013-01-01)\n",
    "\n",
    "\n",
    "12. GFSAD1000: Cropland Extent 1km Multi-Study Crop Mask, Global Food-Support Analysis Data (1000m)\n",
    "https://developers.google.com/earth-engine/datasets/catalog/USGS_GFSAD1000_V1\n",
    "  landcover\n",
    "  (2010)"
   ]
  },
  {
   "cell_type": "markdown",
   "id": "5ea48a43",
   "metadata": {},
   "source": [
    "## Load raster\n",
    "Setting environment:\n",
    "```\n",
    "conda create -n gee python\n",
    "conda activate gee\n",
    "conda install mamba -c conda-forge\n",
    "mamba install geemap xarray_leaflet -c conda-forge\n",
    "```\n",
    "\n",
    "* But this function doesn't work on windows system now"
   ]
  },
  {
   "cell_type": "code",
   "execution_count": null,
   "id": "9f66f0f9",
   "metadata": {},
   "outputs": [],
   "source": [
    "import os\n",
    "import geemap"
   ]
  },
  {
   "cell_type": "code",
   "execution_count": null,
   "id": "359eea5a",
   "metadata": {},
   "outputs": [],
   "source": [
    "Map = geemap.Map(center=(12.2395,  -1.5584), zoom=10, lite_mode=False) \n",
    "Map.add_basemap('HYBRID')\n",
    "Map"
   ]
  },
  {
   "cell_type": "markdown",
   "id": "86959d0b",
   "metadata": {},
   "source": [
    "## Download an ee.Image"
   ]
  },
  {
   "cell_type": "code",
   "execution_count": null,
   "id": "c76a07a1",
   "metadata": {},
   "outputs": [],
   "source": [
    "import ee\n",
    "import geemap\n",
    "import os"
   ]
  },
  {
   "cell_type": "code",
   "execution_count": null,
   "id": "f9f44b2a",
   "metadata": {},
   "outputs": [],
   "source": [
    "Map = geemap.Map(center=(12.2395,  -1.5584), zoom=10, lite_mode=False) \n",
    "Map.add_basemap('HYBRID')\n",
    "Map"
   ]
  },
  {
   "cell_type": "code",
   "execution_count": null,
   "id": "e96598d8",
   "metadata": {},
   "outputs": [],
   "source": [
    "image = ee.Image('LE7_TOA_5YEAR/1999_2003')\n",
    "\n",
    "landsat_vis = {\n",
    "    'bands': ['B4', 'B3', 'B2'], \n",
    "    'gamma': 1.4\n",
    "}\n",
    "Map.addLayer(image, landsat_vis, \"LE7_TOA_5YEAR/1999_2003\", True, 0.7)"
   ]
  },
  {
   "cell_type": "code",
   "execution_count": null,
   "id": "e0cef374",
   "metadata": {},
   "outputs": [],
   "source": [
    "# Draw any shapes on the map using the Drawing tools before executing this code block\n",
    "feature = Map.draw_last_feature\n",
    "\n",
    "if feature is None:\n",
    "    geom = ee.Geometry.Polygon([[\n",
    "    [-2.399214, 11.889637],\n",
    "    [-2.399214, 12.626826],\n",
    "    [-1.022788, 12.626826],\n",
    "    [-1.022788, 11.889637],\n",
    "    [-2.399214, 11.889637]]])\n",
    "    feature = ee.Feature(geom, {})\n",
    "\n",
    "roi = feature.geometry()\n",
    "Map.addLayer(roi, {}, \"ROI\")"
   ]
  },
  {
   "cell_type": "code",
   "execution_count": null,
   "id": "a9c995e9",
   "metadata": {},
   "outputs": [],
   "source": [
    "out_dir = os.path.join(os.path.expanduser('~'), 'Downloads')\n",
    "filename = os.path.join(out_dir, 'landsat.tif')\n",
    "print(out_dir)"
   ]
  },
  {
   "cell_type": "code",
   "execution_count": null,
   "id": "cfdfd462",
   "metadata": {
    "scrolled": true
   },
   "outputs": [],
   "source": [
    "Map = geemap.Map(center=(12.2395,  -1.5584), zoom=10, lite_mode=False) \n",
    "Map.add_basemap('HYBRID')\n",
    "Map"
   ]
  },
  {
   "cell_type": "code",
   "execution_count": null,
   "id": "b955468c",
   "metadata": {},
   "outputs": [],
   "source": [
    "image = image.clip(roi).unmask()\n",
    "geemap.ee_export_image(image, filename=filename, scale=90, region=roi, file_per_band=False)"
   ]
  },
  {
   "cell_type": "code",
   "execution_count": null,
   "id": "f4de85b6",
   "metadata": {},
   "outputs": [],
   "source": [
    "image = image.clip(roi).unmask()\n",
    "geemap.ee_export_image(image, filename=filename, scale=90, region=roi, file_per_band=False)"
   ]
  },
  {
   "cell_type": "code",
   "execution_count": null,
   "id": "8009d04a",
   "metadata": {},
   "outputs": [],
   "source": [
    "geemap.ee_export_image_to_drive(image, description='landsat', folder='export', region=roi, scale=30)"
   ]
  },
  {
   "cell_type": "code",
   "execution_count": null,
   "id": "912e5689",
   "metadata": {},
   "outputs": [],
   "source": [
    "bf_boarder = ee.FeatureCollection('USDOS/LSIB_SIMPLE/2017')\\\n",
    "               .filter(ee.Filter.eq('country_na', 'Burkina Faso'))\n",
    "\n",
    "# Dano = ee.Geometry.Point(-3.06244, 11.146104)\n",
    "collection = ee.ImageCollection(\"LANDSAT/LT05/C01/T2\") \\\n",
    "    .filterBounds(bf_boarder) \\\n",
    "    .filterDate('1990-09-01', '1990-10-01')\n",
    "\n",
    "# Map.addLayer(collection, {}, \"Collection2019\")\n",
    "out_dir = os.path.join(os.path.expanduser('~'), 'Downloads')\n",
    "print(collection.aggregate_array('system:index').getInfo())\n",
    "geemap.ee_export_image_collection(collection, out_dir=out_dir)\n",
    "geemap.ee_export_image_collection_to_drive(collection, folder='export', scale=10)"
   ]
  },
  {
   "cell_type": "markdown",
   "id": "62f43272",
   "metadata": {},
   "source": [
    "## Change detection"
   ]
  },
  {
   "cell_type": "code",
   "execution_count": null,
   "id": "99281e37",
   "metadata": {},
   "outputs": [],
   "source": [
    "import os\n",
    "import ee\n",
    "import geemap\n",
    "from geemap.basemaps import basemaps"
   ]
  },
  {
   "cell_type": "code",
   "execution_count": null,
   "id": "ebf1c7d7",
   "metadata": {},
   "outputs": [],
   "source": [
    "bf_boarder = ee.FeatureCollection('USDOS/LSIB_SIMPLE/2017')\\\n",
    "               .filter(ee.Filter.eq('country_na', 'Burkina Faso'))"
   ]
  },
  {
   "cell_type": "code",
   "execution_count": null,
   "id": "d1120a9a",
   "metadata": {},
   "outputs": [],
   "source": [
    "LC_2015 = ee.Image(\"COPERNICUS/Landcover/100m/Proba-V-C3/Global/2015\")\\\n",
    ".select('discrete_classification').clip(bf_boarder)\n",
    "LC_2019 = ee.Image(\"COPERNICUS/Landcover/100m/Proba-V-C3/Global/2019\")\\\n",
    ".select('discrete_classification').clip(bf_boarder)\n",
    "\n",
    "left_layer = geemap.ee_tile_layer(LC_2015, {}, 'LC_2015')\n",
    "right_layer = geemap.ee_tile_layer(LC_2019, {}, 'LC_2019')\n",
    "\n",
    "Map = geemap.Map(center=(12.2395,  -1.5584), zoom=10, lite_mode=False) \n",
    "Map.split_map(left_layer, right_layer)\n",
    "Map"
   ]
  },
  {
   "cell_type": "markdown",
   "id": "df0659c6",
   "metadata": {},
   "source": [
    "## Zonal Statistics"
   ]
  },
  {
   "cell_type": "markdown",
   "id": "07a89a2e",
   "metadata": {},
   "source": [
    "### Export zonal statistics to csv, shp, json, kml, kmz"
   ]
  },
  {
   "cell_type": "code",
   "execution_count": null,
   "id": "80e7a36f",
   "metadata": {},
   "outputs": [],
   "source": [
    "import ee\n",
    "import geemap\n",
    "import os"
   ]
  },
  {
   "cell_type": "code",
   "execution_count": null,
   "id": "5b4d576c",
   "metadata": {},
   "outputs": [],
   "source": [
    "# Create the interactive map\n",
    "Map = geemap.Map(center=(12.2395,  -1.5584), zoom=10, lite_mode=False) \n",
    "Map.add_basemap('HYBRID')\n",
    "Map"
   ]
  },
  {
   "cell_type": "code",
   "execution_count": null,
   "id": "a9587e1a",
   "metadata": {},
   "outputs": [],
   "source": [
    "# Add Earth Engine dataset\n",
    "dem = ee.Image('USGS/SRTMGL1_003')\n",
    "\n",
    "# Set visualization parameters.\n",
    "dem_vis = {\n",
    "  'min': 0,\n",
    "  'max': 4000,\n",
    "  'palette': ['006633', 'E5FFCC', '662A00', 'D8D8D8', 'F5F5F5']}\n",
    "\n",
    "# Add Earth Engine DEM to map\n",
    "Map.addLayer(dem, dem_vis, 'SRTM DEM')\n",
    "\n",
    "# Add Landsat data to map\n",
    "landsat = ee.Image('LE7_TOA_5YEAR/1999_2003')\n",
    "\n",
    "landsat_vis = {\n",
    "    'bands': ['B4', 'B3', 'B2'], \n",
    "    'gamma': 1.4\n",
    "}\n",
    "Map.addLayer(landsat, landsat_vis, \"LE7_TOA_5YEAR/1999_2003\")\n",
    "\n",
    "\n",
    "Africa = ee.FeatureCollection('USDOS/LSIB_SIMPLE/2017').filter(ee.Filter.eq('wld_rgn', 'Africa'))\n",
    "Map.addLayer(Africa, {}, 'Africa')"
   ]
  },
  {
   "cell_type": "code",
   "execution_count": null,
   "id": "7ce5ea13",
   "metadata": {},
   "outputs": [],
   "source": [
    "out_dir = os.path.join(os.path.expanduser('~'), 'Downloads')\n",
    "out_dem_africa = os.path.join(out_dir, 'dem_africa.csv')  \n",
    "\n",
    "if not os.path.exists(out_dir):\n",
    "    os.makedirs(out_dir)\n",
    "\n",
    "# Allowed output formats: csv, shp, json, kml, kmz\n",
    "# Allowed statistics type: MEAN, MAXIMUM, MINIMUM, MEDIAN, STD, MIN_MAX, VARIANCE, SUM\n",
    "geemap.zonal_statistics(dem, Africa, out_dem_africa, statistics_type='MEAN', scale=1000)"
   ]
  },
  {
   "cell_type": "code",
   "execution_count": null,
   "id": "f8a5e761",
   "metadata": {},
   "outputs": [],
   "source": [
    "out_landsat_africa = os.path.join(out_dir, 'landsat_africa.shp')  \n",
    "geemap.zonal_statistics(landsat, Africa, out_landsat_africa, statistics_type='SUM', scale=1000)"
   ]
  },
  {
   "cell_type": "code",
   "execution_count": null,
   "id": "f4b45319",
   "metadata": {},
   "outputs": [],
   "source": [
    "geemap.create_download_link(out_dem_africa)"
   ]
  },
  {
   "cell_type": "code",
   "execution_count": null,
   "id": "8d6b4635",
   "metadata": {},
   "outputs": [],
   "source": [
    "geemap.create_download_link(out_landsat_africa)"
   ]
  },
  {
   "cell_type": "markdown",
   "id": "14d43740",
   "metadata": {},
   "source": [
    "### Zonal Statistics by group"
   ]
  },
  {
   "cell_type": "code",
   "execution_count": null,
   "id": "a07cb834",
   "metadata": {},
   "outputs": [],
   "source": [
    "# Create the interactive map\n",
    "Map = geemap.Map(center=(12.2395,  -1.5584), zoom=10, lite_mode=False) \n",
    "Map.add_basemap('HYBRID')\n",
    "Map"
   ]
  },
  {
   "cell_type": "code",
   "execution_count": null,
   "id": "c399346e",
   "metadata": {},
   "outputs": [],
   "source": [
    "landcover = ee.Image('MODIS/051/MCD12Q1/2013_01_01') \\\n",
    "    .select('Land_Cover_Type_1')\n",
    "\n",
    "Map.setCenter(12.2395,  -1.5584, 8)\n",
    "Map.addLayer(landcover, {}, 'MODIS Land Cover')"
   ]
  },
  {
   "cell_type": "code",
   "execution_count": null,
   "id": "57ad8d20",
   "metadata": {},
   "outputs": [],
   "source": [
    "Map.add_legend(builtin_legend='MODIS/051/MCD12Q1')"
   ]
  },
  {
   "cell_type": "code",
   "execution_count": null,
   "id": "0051235b",
   "metadata": {},
   "outputs": [],
   "source": [
    "Africa = ee.FeatureCollection('USDOS/LSIB_SIMPLE/2017').filter(ee.Filter.eq('wld_rgn', 'Africa'))\n",
    "Map.addLayer(Africa, {}, 'Africa')"
   ]
  },
  {
   "cell_type": "code",
   "execution_count": null,
   "id": "ffd239f2",
   "metadata": {},
   "outputs": [],
   "source": [
    "# output sum\n",
    "out_dir = os.path.join(os.path.expanduser('~'), 'Downloads')\n",
    "nlcd_africa_sum = os.path.join(out_dir, 'nlcd_africa_sum.csv')  \n",
    "\n",
    "if not os.path.exists(out_dir):\n",
    "    os.makedirs(out_dir)\n",
    "    \n",
    "# statistics_type can be either 'SUM' or 'PERCENTAGE'\n",
    "# denominator can be used to convert square meters to other areal units, such as square kilimeters\n",
    "geemap.zonal_statistics_by_group(landcover, Africa, nlcd_africa_sum, statistics_type='SUM', denominator=1000000, decimal_places=2)"
   ]
  },
  {
   "cell_type": "code",
   "execution_count": null,
   "id": "15d597fb",
   "metadata": {},
   "outputs": [],
   "source": [
    "# output percentage\n",
    "out_dir = os.path.join(os.path.expanduser('~'), 'Downloads')\n",
    "nlcd_africa_percentage = os.path.join(out_dir, 'nlcd_africa_percentage.csv')  \n",
    "\n",
    "# statistics_type can be either 'SUM' or 'PERCENTAGE'\n",
    "# denominator can be used to convert square meters to other areal units, such as square kilimeters\n",
    "geemap.zonal_statistics_by_group(landcover, Africa, nlcd_africa_percentage, statistics_type='PERCENTAGE', denominator=1000000, decimal_places=2)"
   ]
  },
  {
   "cell_type": "code",
   "execution_count": null,
   "id": "fa55b880",
   "metadata": {},
   "outputs": [],
   "source": [
    "geemap.create_download_link(nlcd_africa_sum)"
   ]
  },
  {
   "cell_type": "code",
   "execution_count": null,
   "id": "44f4b000",
   "metadata": {},
   "outputs": [],
   "source": [
    "geemap.create_download_link(nlcd_africa_sum)"
   ]
  },
  {
   "cell_type": "markdown",
   "id": "bbd5deae",
   "metadata": {},
   "source": [
    "# Remote sensing data"
   ]
  },
  {
   "cell_type": "markdown",
   "id": "a0de9a49",
   "metadata": {},
   "source": [
    "Raster data are represented as Image objects in Earth Engine. Images are composed of one or more bands and each band has its own name, data type, scale, mask and projection. Each image has metadata stored as a set of properties.\n",
    "\n",
    "In addition to loading images from the archive by an image ID, images can also be created from constants, lists or other suitable Earth Engine objects. The following illustrates methods for creating images, getting band subsets, and manipulating bands.\n",
    "\n",
    "More information about ee.Image can be found in the Earth Engine Documentation.\n",
    "\n",
    "https://developers.google.com/earth-engine/guides/image_overview"
   ]
  },
  {
   "cell_type": "code",
   "execution_count": null,
   "id": "39eaa81e",
   "metadata": {},
   "outputs": [],
   "source": [
    "# !pip isntall geemap"
   ]
  },
  {
   "cell_type": "markdown",
   "id": "8008b01a",
   "metadata": {},
   "source": [
    "## Loading a single-band image\n",
    "Images can be loaded by pasting an Earth Engine asset ID into the ee.Image constructor. The image IDs can be found in data catalog. https://developers.google.com/earth-engine/datasets"
   ]
  },
  {
   "cell_type": "code",
   "execution_count": null,
   "id": "d5d101c4",
   "metadata": {},
   "outputs": [],
   "source": [
    "import ee\n",
    "import geemap"
   ]
  },
  {
   "cell_type": "code",
   "execution_count": null,
   "id": "fdc50c3e",
   "metadata": {},
   "outputs": [],
   "source": [
    "Map = geemap.Map(center=(12.2395,  -1.5584), zoom=10, lite_mode=False) \n",
    "Map.add_basemap('HYBRID')\n",
    "Map"
   ]
  },
  {
   "cell_type": "code",
   "execution_count": null,
   "id": "0b689d03",
   "metadata": {},
   "outputs": [],
   "source": [
    "bf_boarder = ee.FeatureCollection('USDOS/LSIB_SIMPLE/2017')\\\n",
    "               .filter(ee.Filter.eq('country_na', 'Burkina Faso'))"
   ]
  },
  {
   "cell_type": "code",
   "execution_count": null,
   "id": "30e80125",
   "metadata": {},
   "outputs": [],
   "source": [
    "dem = ee.Image('CGIAR/SRTM90_V4').clip(bf_boarder)\n",
    "Map.addLayer(dem, {}, \"DEM\")"
   ]
  },
  {
   "cell_type": "code",
   "execution_count": null,
   "id": "9c89d9da",
   "metadata": {},
   "outputs": [],
   "source": [
    "# Set visualization parameters.\n",
    "vis_params = {\n",
    "  'min': 0,\n",
    "  'max': 600,\n",
    "  'palette': ['006633', 'E5FFCC', '662A00', 'D8D8D8', 'F5F5F5']}\n",
    "Map.addLayer(dem, vis_params, \"DEM Vis\")"
   ]
  },
  {
   "cell_type": "markdown",
   "id": "dd610c48",
   "metadata": {},
   "source": [
    "## Loading a multi-band image"
   ]
  },
  {
   "cell_type": "code",
   "execution_count": null,
   "id": "91691333",
   "metadata": {},
   "outputs": [],
   "source": [
    "import ee\n",
    "import geemap"
   ]
  },
  {
   "cell_type": "code",
   "execution_count": null,
   "id": "bbddf86f",
   "metadata": {},
   "outputs": [],
   "source": [
    "Map = geemap.Map(center=(12.2395,  -1.5584), zoom=10, lite_mode=False) \n",
    "Map.add_basemap('HYBRID')\n",
    "Map"
   ]
  },
  {
   "cell_type": "code",
   "execution_count": null,
   "id": "6695ed4a",
   "metadata": {},
   "outputs": [],
   "source": [
    "bf_boarder = ee.FeatureCollection('USDOS/LSIB_SIMPLE/2017')\\\n",
    "               .filter(ee.Filter.eq('country_na', 'Burkina Faso'))\n",
    "mask = bf_boarder.geometry()"
   ]
  },
  {
   "cell_type": "code",
   "execution_count": null,
   "id": "aacfaae5",
   "metadata": {},
   "outputs": [],
   "source": [
    "image = ee.ImageCollection('LANDSAT/LC08/C01/T1_SR') \\\n",
    "          .filterDate('2020-10-01', '2020-12-30') \\\n",
    "          .filterMetadata('CLOUD_COVER', 'less_than', 10) \\\n",
    "          .sort(\"CLOUD_COVER\") \\\n",
    "           .filterBounds(bf_boarder) \n",
    "\n",
    "# Center the map and display the image.\n",
    "Map.centerObject(image, zoom=8)\n",
    "\n",
    "vis_params = {'bands': ['B5', 'B4', 'B3'],\n",
    "              'min': 0.0,\n",
    "              'max': 3000,\n",
    "              'opacity': 1.0,\n",
    "              'gamma': 1.2}\n",
    "Map.addLayer(image, vis_params, 'Landsat')"
   ]
  },
  {
   "cell_type": "markdown",
   "id": "0696f66f",
   "metadata": {},
   "source": [
    "## Select the best image in each year"
   ]
  },
  {
   "cell_type": "code",
   "execution_count": null,
   "id": "06436da3",
   "metadata": {},
   "outputs": [],
   "source": [
    "import ee\n",
    "import geemap"
   ]
  },
  {
   "cell_type": "code",
   "execution_count": null,
   "id": "fcebcd72",
   "metadata": {},
   "outputs": [],
   "source": [
    "Map = geemap.Map(center=(11.1464, -3.05784), zoom=10, lite_mode=False) \n",
    "Map.add_basemap('HYBRID')\n",
    "Map"
   ]
  },
  {
   "cell_type": "code",
   "execution_count": null,
   "id": "3b165495",
   "metadata": {},
   "outputs": [],
   "source": [
    "Dano = ee.Geometry.Point(-3.05784, 11.1464)"
   ]
  },
  {
   "cell_type": "code",
   "execution_count": null,
   "id": "6a4ac37c",
   "metadata": {},
   "outputs": [],
   "source": [
    "def best_image(year):\n",
    "    start_date = ee.Date.fromYMD(year, 1, 1)\n",
    "    end_date = start_date.advance(1, 'year')\n",
    "    \n",
    "    image = ee.ImageCollection('LANDSAT/LC08/C01/T1_SR') \\\n",
    "        .filterBounds(Dano) \\\n",
    "        .filterDate(start_date, end_date) \\\n",
    "        .sort(\"CLOUD_COVER\") \\\n",
    "        .first()\n",
    "    \n",
    "    return image"
   ]
  },
  {
   "cell_type": "code",
   "execution_count": null,
   "id": "65fd4a4e",
   "metadata": {},
   "outputs": [],
   "source": [
    "start_year = 2013\n",
    "end_year = 2020\n",
    "years = ee.List.sequence(start_year, end_year)\n",
    "year_list = years.getInfo()\n",
    "print(year_list)"
   ]
  },
  {
   "cell_type": "code",
   "execution_count": null,
   "id": "d19b9628",
   "metadata": {},
   "outputs": [],
   "source": [
    "images = years.map(best_image)"
   ]
  },
  {
   "cell_type": "code",
   "execution_count": null,
   "id": "d7a76499",
   "metadata": {},
   "outputs": [],
   "source": [
    "count = images.size().getInfo()\n",
    "print(count)"
   ]
  },
  {
   "cell_type": "code",
   "execution_count": null,
   "id": "d2ad0f10",
   "metadata": {},
   "outputs": [],
   "source": [
    "ee.ImageCollection(images).aggregate_array(\"CLOUD_COVER\").getInfo()"
   ]
  },
  {
   "cell_type": "code",
   "execution_count": null,
   "id": "27ec4d09",
   "metadata": {},
   "outputs": [],
   "source": [
    "for index in range(0, count):\n",
    "    image = ee.Image(images.get(index))\n",
    "    layer_name = \"Image \" + str(year_list[index])\n",
    "    Map.addLayer(image, vis_params, layer_name, False)"
   ]
  },
  {
   "cell_type": "markdown",
   "id": "a1f03135",
   "metadata": {},
   "source": [
    "## Cloud free composite"
   ]
  },
  {
   "cell_type": "code",
   "execution_count": null,
   "id": "b221b710",
   "metadata": {},
   "outputs": [],
   "source": [
    "import ee\n",
    "import geemap\n",
    "ee.Initialize()"
   ]
  },
  {
   "cell_type": "code",
   "execution_count": null,
   "id": "f95b5ed7",
   "metadata": {},
   "outputs": [],
   "source": [
    "Map = geemap.Map(center=(12.2395,  -1.5584), zoom=10, lite_mode=False) \n",
    "Map.add_basemap('HYBRID')\n",
    "Map"
   ]
  },
  {
   "cell_type": "code",
   "execution_count": null,
   "id": "843a8e05",
   "metadata": {},
   "outputs": [],
   "source": [
    "bf_boarder = ee.FeatureCollection('USDOS/LSIB_SIMPLE/2017')\\\n",
    "               .filter(ee.Filter.eq('country_na', 'Burkina Faso'))\n",
    "mask = bf_boarder.geometry()"
   ]
  },
  {
   "cell_type": "code",
   "execution_count": null,
   "id": "d458a905",
   "metadata": {},
   "outputs": [],
   "source": [
    "years = ee.List.sequence(2013, 2020)\n",
    "years.getInfo()"
   ]
  },
  {
   "cell_type": "code",
   "execution_count": null,
   "id": "22038af8",
   "metadata": {},
   "outputs": [],
   "source": [
    "def yearly_image(year):\n",
    "    \n",
    "    start_date = ee.Date.fromYMD(year, 1, 1) \n",
    "    end_date = start_date.advance(1, \"year\")\n",
    "    \n",
    "    collection = ee.ImageCollection('LANDSAT/LC08/C01/T1') \\\n",
    "        .filterDate(start_date, end_date) \\\n",
    "        .filterBounds(bf_boarder) \n",
    "    \n",
    "    image =  ee.Algorithms.Landsat.simpleComposite(collection).clipToCollection(bf_boarder)\n",
    "\n",
    "    return image"
   ]
  },
  {
   "cell_type": "code",
   "execution_count": null,
   "id": "8d998c79",
   "metadata": {},
   "outputs": [],
   "source": [
    "images = years.map(yearly_image)"
   ]
  },
  {
   "cell_type": "code",
   "execution_count": null,
   "id": "8432f43f",
   "metadata": {},
   "outputs": [],
   "source": [
    "vis_params = {'bands': ['B5',  'B4',  'B3'], 'max': 128}"
   ]
  },
  {
   "cell_type": "code",
   "execution_count": null,
   "id": "f9e6572b",
   "metadata": {},
   "outputs": [],
   "source": [
    "for index in range(0, 8):\n",
    "    image = ee.Image(images.get(index))\n",
    "    layer_name = \"Image \" + str(index + 2013)\n",
    "    Map.addLayer(image, vis_params, layer_name)"
   ]
  },
  {
   "cell_type": "markdown",
   "id": "f451f0c6",
   "metadata": {},
   "source": [
    "## Normalized difference vegetation index (NDVI) and Enhanced vegetation index (EVI)"
   ]
  },
  {
   "cell_type": "markdown",
   "id": "4c977c52",
   "metadata": {},
   "source": [
    "### Landsat"
   ]
  },
  {
   "cell_type": "markdown",
   "id": "b7a825ed",
   "metadata": {},
   "source": [
    "#### Color palettes\n",
    "To display a single band of an image in color, set the parameter with a color ramp represented by a list of CSS-style color strings. \n",
    "\n",
    "The following example illustrates how to use colors to render a Normalized Difference Vegetation Index (NDVI) image."
   ]
  },
  {
   "cell_type": "code",
   "execution_count": null,
   "id": "a9da3c74",
   "metadata": {},
   "outputs": [],
   "source": [
    "import ee\n",
    "import geemap"
   ]
  },
  {
   "cell_type": "code",
   "execution_count": null,
   "id": "6b71b25c",
   "metadata": {},
   "outputs": [],
   "source": [
    "# Create default map\n",
    "Map = geemap.Map(center=(12.2395,  -1.5584), zoom=10, lite_mode=False) \n",
    "Map.add_basemap('HYBRID')\n",
    "Map"
   ]
  },
  {
   "cell_type": "code",
   "execution_count": null,
   "id": "18120e88",
   "metadata": {},
   "outputs": [],
   "source": [
    "bf_boarder = ee.FeatureCollection('USDOS/LSIB_SIMPLE/2017')\\\n",
    "               .filter(ee.Filter.eq('country_na', 'Burkina Faso'))\n",
    "mask = bf_boarder.geometry()"
   ]
  },
  {
   "cell_type": "code",
   "execution_count": null,
   "id": "a5a2a689",
   "metadata": {},
   "outputs": [],
   "source": [
    "# Load landsat image\n",
    "imageCollection = ee.ImageCollection('LANDSAT/LC08/C01/T1') \\\n",
    "                    .filterDate('2000-10-01', '2020-12-31') \\\n",
    "                    .filterBounds(bf_boarder)"
   ]
  },
  {
   "cell_type": "markdown",
   "id": "14c1ee1e",
   "metadata": {},
   "source": [
    "##### Landsat NDVI\n",
    "1. Use function \"image.normalizedDifference\"\n",
    "2. Use add(), subtract(), and divide() operators."
   ]
  },
  {
   "cell_type": "markdown",
   "id": "4b593993",
   "metadata": {},
   "source": [
    "##### Landsat NDVI: average all month\n",
    "Results in a image collection containing 12 images as long term mean"
   ]
  },
  {
   "cell_type": "code",
   "execution_count": null,
   "id": "eff34e3e",
   "metadata": {},
   "outputs": [],
   "source": [
    "startyear = 2000\n",
    "endyear = 2020"
   ]
  },
  {
   "cell_type": "code",
   "execution_count": null,
   "id": "46820ebf",
   "metadata": {},
   "outputs": [],
   "source": [
    "startDate=ee.Date.fromYMD(startyear,1,1)\n",
    "endDate=ee.Date.fromYMD(endyear+1,1,1)"
   ]
  },
  {
   "cell_type": "code",
   "execution_count": null,
   "id": "f4567eb5",
   "metadata": {},
   "outputs": [],
   "source": [
    "months = ee.List.sequence(1, 12)"
   ]
  },
  {
   "cell_type": "code",
   "execution_count": null,
   "id": "d1b39cde",
   "metadata": {},
   "outputs": [],
   "source": [
    "def func_ndvi(m):\n",
    "  filtered = imageCollection.filter(ee.Filter.calendarRange(**{\n",
    "    'start': m,\n",
    "    'field': 'month'\n",
    "  }))\n",
    "  composite = ee.Algorithms.Landsat.simpleComposite(filtered)\n",
    "  return composite.normalizedDifference(['B4', 'B3']).rename('NDVI') \\\n",
    "      .set('month', m)"
   ]
  },
  {
   "cell_type": "code",
   "execution_count": null,
   "id": "8af32095",
   "metadata": {},
   "outputs": [],
   "source": [
    "composites = ee.ImageCollection.fromImages(months.map(func_ndvi))"
   ]
  },
  {
   "cell_type": "code",
   "execution_count": null,
   "id": "a018942b",
   "metadata": {},
   "outputs": [],
   "source": [
    "# print(composites.size())"
   ]
  },
  {
   "cell_type": "code",
   "execution_count": null,
   "id": "104e5ff9",
   "metadata": {},
   "outputs": [],
   "source": [
    "ndvi_first = ee.Image(composites.first().clip(bf_boarder))\n",
    "ndvi_palette = 'FFFFFF, CE7E45, DF923D, F1B555, FCD163, 99B718, 74A901, 66A000, 529400, 3E8601, 207401, 056201, 004C00, 023B01, 012E01, 011D01, 011301'\n",
    "ndviViz = {'min': 0, 'max': 0.3 ,'palette':ndvi_palette}\n",
    "Map.addLayer(ndvi_first, ndviViz, 'check ndvi')"
   ]
  },
  {
   "cell_type": "markdown",
   "id": "1d6b3a9d",
   "metadata": {},
   "source": [
    "##### Landsat NDVI: each year to calculate anomalies"
   ]
  },
  {
   "cell_type": "code",
   "execution_count": null,
   "id": "66c5b6f4",
   "metadata": {},
   "outputs": [],
   "source": [
    "# Load landsat image\n",
    "imageCollection = ee.ImageCollection('LANDSAT/LC08/C01/T1') \\\n",
    "                    .filterDate('2000-10-01', '2020-12-31') \\\n",
    "                    .filterBounds(bf_boarder)"
   ]
  },
  {
   "cell_type": "code",
   "execution_count": null,
   "id": "9abb0463",
   "metadata": {},
   "outputs": [],
   "source": [
    "startyear = 2000\n",
    "endyear = 2020\n",
    "year = startyear"
   ]
  },
  {
   "cell_type": "code",
   "execution_count": null,
   "id": "cbf59605",
   "metadata": {},
   "outputs": [],
   "source": [
    "startDate=ee.Date.fromYMD(year,1,1)\n",
    "endDate=ee.Date.fromYMD(year,12,31)"
   ]
  },
  {
   "cell_type": "code",
   "execution_count": null,
   "id": "0acd8f36",
   "metadata": {},
   "outputs": [],
   "source": [
    "months = ee.List.sequence(1, 12)"
   ]
  },
  {
   "cell_type": "code",
   "execution_count": null,
   "id": "9c39e831",
   "metadata": {},
   "outputs": [],
   "source": [
    "def func_ndvi(m):\n",
    "  filtered = imageCollection.filter(ee.Filter.calendarRange(**{\n",
    "    'start': m,\n",
    "    'field': 'month'\n",
    "  }))\n",
    "  composite = ee.Algorithms.Landsat.simpleComposite(filtered)\n",
    "  return composite.normalizedDifference(['B4', 'B3']).rename('NDVI') \\\n",
    "      .set('month', m)"
   ]
  },
  {
   "cell_type": "code",
   "execution_count": null,
   "id": "e1cf0feb",
   "metadata": {},
   "outputs": [],
   "source": [
    "for year in range(startyear, endyear+1, 1):\n",
    "    startDate=ee.Date.fromYMD(year,1,1)\n",
    "    endDate=ee.Date.fromYMD(year,12,31)\n",
    "    imageCollection = ee.ImageCollection('LANDSAT/LC08/C01/T1') \\\n",
    "                    .filterDate(startDate, endDate) \\\n",
    "                    .filterBounds(bf_boarder)\n",
    "    composites = ee.ImageCollection.fromImages(months.map(func_ndvi))"
   ]
  },
  {
   "cell_type": "code",
   "execution_count": null,
   "id": "b7ef86f6",
   "metadata": {},
   "outputs": [],
   "source": [
    "ndvi_first = ee.Image(composites.first().clip(bf_boarder))\n",
    "ndvi_palette = 'FFFFFF, CE7E45, DF923D, F1B555, FCD163, 99B718, 74A901, 66A000, 529400, 3E8601, 207401, 056201, 004C00, 023B01, 012E01, 011D01, 011301'\n",
    "ndviViz = {'min': 0, 'max': 0.3 ,'palette':ndvi_palette}\n",
    "Map.addLayer(ndvi_first, ndviViz, 'ndvi first')"
   ]
  },
  {
   "cell_type": "markdown",
   "id": "2042bcbf",
   "metadata": {},
   "source": [
    "#### Landsat NDVI APP"
   ]
  },
  {
   "cell_type": "code",
   "execution_count": null,
   "id": "0137213b",
   "metadata": {},
   "outputs": [],
   "source": [
    "import os\n",
    "import ee\n",
    "import geemap\n",
    "import ipywidgets as widgets"
   ]
  },
  {
   "cell_type": "code",
   "execution_count": null,
   "id": "215ff797",
   "metadata": {},
   "outputs": [],
   "source": [
    "style = {'description_width': 'initial'}\n",
    "title = widgets.Text(\n",
    "    description='Title:',\n",
    "    value='Landsat Timelapse',\n",
    "    width=200,\n",
    "    style=style\n",
    ")"
   ]
  },
  {
   "cell_type": "code",
   "execution_count": null,
   "id": "c7b0d5e5",
   "metadata": {},
   "outputs": [],
   "source": [
    "start_year = widgets.IntSlider(description='Start Year:', value=2013, min=2013, max=2021, style=style)"
   ]
  },
  {
   "cell_type": "code",
   "execution_count": null,
   "id": "416480c0",
   "metadata": {},
   "outputs": [],
   "source": [
    "end_year = widgets.IntSlider(description='End Year:', value=2021, min=2013, max=2021, style=style)"
   ]
  },
  {
   "cell_type": "code",
   "execution_count": null,
   "id": "09f17316",
   "metadata": {},
   "outputs": [],
   "source": [
    "start_month = widgets.Dropdown(\n",
    "    description='Start Month:',\n",
    "    options=['01', '02', '03', '04', '05', '06', '07', '08', '09', '10', '11', '12'],\n",
    "    value='04',\n",
    "    style=style\n",
    ")"
   ]
  },
  {
   "cell_type": "code",
   "execution_count": null,
   "id": "3759ff8d",
   "metadata": {},
   "outputs": [],
   "source": [
    "end_month = widgets.Dropdown(\n",
    "    description='End Month:',\n",
    "    options=['01', '02', '03', '04', '05', '06', '07', '08', '09', '10', '11', '12'],\n",
    "    value='05',\n",
    "    style=style\n",
    ")"
   ]
  },
  {
   "cell_type": "code",
   "execution_count": null,
   "id": "2ea417ee",
   "metadata": {},
   "outputs": [],
   "source": [
    "start_day = widgets.Dropdown(\n",
    "    description='Start Day:',\n",
    "    options=['01', '02', '03', '04', '05', '06', '07', '08', '09', '10',\n",
    "             '11', '12', '13', '14', '15', '16', '17', '18', '19', '20',\n",
    "             '21', '22', '23', '24', '25', '26', '27', '28', '29', '30', '31'],\n",
    "    value='11',\n",
    "    style=style\n",
    ")"
   ]
  },
  {
   "cell_type": "code",
   "execution_count": null,
   "id": "70361d40",
   "metadata": {},
   "outputs": [],
   "source": [
    "end_day = widgets.Dropdown(\n",
    "    description='End Day:',\n",
    "    options=['01', '02', '03', '04', '05', '06', '07', '08', '09', '10',\n",
    "             '11', '12', '13', '14', '15', '16', '17', '18', '19', '20',\n",
    "             '21', '22', '23', '24', '25', '26', '27', '28', '29', '30', '31'],\n",
    "    value='18',\n",
    "    style=style\n",
    ")"
   ]
  },
  {
   "cell_type": "code",
   "execution_count": null,
   "id": "da1f0432",
   "metadata": {},
   "outputs": [],
   "source": [
    "hbox_start = widgets.HBox([start_year, start_month, start_day])\n",
    "hbox_start"
   ]
  },
  {
   "cell_type": "code",
   "execution_count": null,
   "id": "18b31270",
   "metadata": {},
   "outputs": [],
   "source": [
    "hbox_end = widgets.HBox([end_year, end_month, end_day])\n",
    "hbox_end"
   ]
  },
  {
   "cell_type": "code",
   "execution_count": null,
   "id": "5e1de9ed",
   "metadata": {},
   "outputs": [],
   "source": [
    "start_date = str(start_year.value) + '-' + str(start_month.value) + '-' + str(start_day.value)\n",
    "end_date = str(end_year.value) + '-' + str(end_month.value) + '-' + str(end_day.value)\n",
    "print(start_date)\n",
    "print(end_date)"
   ]
  },
  {
   "cell_type": "code",
   "execution_count": null,
   "id": "6f49c29d",
   "metadata": {},
   "outputs": [],
   "source": [
    "ee.Initialize()\n",
    "# Create default map\n",
    "Map = geemap.Map(center=(12.2395,  -1.5584), zoom=10, lite_mode=False) \n",
    "Map.add_basemap('HYBRID')\n",
    "Map"
   ]
  },
  {
   "cell_type": "code",
   "execution_count": null,
   "id": "f6893512",
   "metadata": {},
   "outputs": [],
   "source": [
    "bf_boarder = ee.FeatureCollection('USDOS/LSIB_SIMPLE/2017')\\\n",
    "               .filter(ee.Filter.eq('country_na', 'Burkina Faso'))\n",
    "mask = bf_boarder.geometry()"
   ]
  },
  {
   "cell_type": "code",
   "execution_count": null,
   "id": "a518b9bc",
   "metadata": {},
   "outputs": [],
   "source": [
    "# Load landsat image\n",
    "imageCollection = ee.ImageCollection('LANDSAT/LC08/C01/T1') \\\n",
    "                    .filterDate(start_date, end_date) \\\n",
    "                    .filterBounds(bf_boarder)"
   ]
  },
  {
   "cell_type": "code",
   "execution_count": null,
   "id": "9654628e",
   "metadata": {},
   "outputs": [],
   "source": [
    "# Function to calculate and add an NDVI band\n",
    "def addNDVI(image):\n",
    "   return image.addBands(image.normalizedDifference(['B5', 'B4']))"
   ]
  },
  {
   "cell_type": "code",
   "execution_count": null,
   "id": "3c7dbece",
   "metadata": {},
   "outputs": [],
   "source": [
    "# Add NDVI band to image collection\n",
    "imageCollection = imageCollection.map(addNDVI)"
   ]
  },
  {
   "cell_type": "code",
   "execution_count": null,
   "id": "ed1c0276",
   "metadata": {},
   "outputs": [],
   "source": [
    "NDVI = ee.Image(imageCollection.select('nd').mean().clip(bf_boarder))\n",
    "NDVI_palette = 'FFFFFF, CE7E45, DF923D, F1B555, FCD163, 99B718, 74A901, 66A000, 529400, 3E8601, 207401, 056201, 004C00, 023B01, 012E01, 011D01, 011301'\n",
    "NDVIViz = {'min': 0, 'max': 0.35 ,'palette':NDVI_palette}\n",
    "Map.addLayer(NDVI, NDVIViz, start_date + 'to' + end_date)"
   ]
  },
  {
   "cell_type": "markdown",
   "id": "3d9d1d19",
   "metadata": {},
   "source": [
    "##### Exporting all bands as one single image"
   ]
  },
  {
   "cell_type": "code",
   "execution_count": null,
   "id": "0cba1a0c",
   "metadata": {},
   "outputs": [],
   "source": [
    "out_dir = os.path.join(os.path.expanduser('~'), 'Downloads')\n",
    "filename = os.path.join(out_dir, start_date+'to'+end_date+'.tif')"
   ]
  },
  {
   "cell_type": "code",
   "execution_count": null,
   "id": "d369bb1d",
   "metadata": {},
   "outputs": [],
   "source": [
    "geemap.ee_export_image(NDVI, filename=filename, scale=900, region=bf_boarder.geometry(), file_per_band=False)"
   ]
  },
  {
   "cell_type": "markdown",
   "id": "d7661191",
   "metadata": {},
   "source": [
    "##### Exporting each band as one image"
   ]
  },
  {
   "cell_type": "code",
   "execution_count": null,
   "id": "de54eb4b",
   "metadata": {},
   "outputs": [],
   "source": [
    "geemap.ee_export_image(NDVI, filename=filename, scale=900, region=bf_boarder.geometry(), file_per_band=True)"
   ]
  },
  {
   "cell_type": "markdown",
   "id": "5fec52c2",
   "metadata": {},
   "source": [
    "##### Exporting an image to Google Drive"
   ]
  },
  {
   "cell_type": "code",
   "execution_count": null,
   "id": "3267dd24",
   "metadata": {},
   "outputs": [],
   "source": [
    "# geemap.ee_export_image_to_drive(NDVI, description=start_date + 'to' + end_date, folder='export', region=bf_boarder, scale=30)"
   ]
  },
  {
   "cell_type": "markdown",
   "id": "70d4c05e",
   "metadata": {},
   "source": [
    "##### Exporting maps as HTML"
   ]
  },
  {
   "cell_type": "code",
   "execution_count": null,
   "id": "fbe899ac",
   "metadata": {},
   "outputs": [],
   "source": [
    "# Exporting maps as HTML\n",
    "download_dir = os.path.join(os.path.expanduser('~'), 'Downloads')\n",
    "if not os.path.exists(download_dir):\n",
    "    os.makedirs(download_dir)\n",
    "html_file = os.path.join(download_dir, 'Myhtml.html')\n",
    "download_dir = os.path.join(os.path.expanduser('~'), 'Downloads')"
   ]
  },
  {
   "cell_type": "code",
   "execution_count": null,
   "id": "29a77218",
   "metadata": {},
   "outputs": [],
   "source": [
    "Map.to_html(outfile=html_file, title= 'NDVI', width='100%', height='880px')"
   ]
  },
  {
   "cell_type": "markdown",
   "id": "d878c0da",
   "metadata": {},
   "source": [
    "##### Exporting maps as PNG/JPG"
   ]
  },
  {
   "cell_type": "code",
   "execution_count": null,
   "id": "910941a1",
   "metadata": {},
   "outputs": [],
   "source": [
    "png_file = os.path.join(download_dir, 'my_map.png')\n",
    "Map.to_image(outfile=png_file, monitor=1)"
   ]
  },
  {
   "cell_type": "code",
   "execution_count": null,
   "id": "8a903e64",
   "metadata": {},
   "outputs": [],
   "source": [
    "jpg_file = os.path.join(download_dir, 'my_map.jpg')\n",
    "Map.to_image(outfile=jpg_file, monitor=1)"
   ]
  },
  {
   "cell_type": "markdown",
   "id": "46248a94",
   "metadata": {},
   "source": [
    "##### Landsat EVI\n",
    "##### Landsat EVI: average all month"
   ]
  },
  {
   "cell_type": "code",
   "execution_count": null,
   "id": "68e5ab24",
   "metadata": {},
   "outputs": [],
   "source": [
    "months = ee.List.sequence(1, 12)"
   ]
  },
  {
   "cell_type": "code",
   "execution_count": null,
   "id": "c5b320c1",
   "metadata": {},
   "outputs": [],
   "source": [
    "def func_evi(m):\n",
    "  filtered = imageCollection.filter(ee.Filter.calendarRange(**{\n",
    "    'start': m,\n",
    "    'field': 'month'\n",
    "  }))\n",
    "  composite = ee.Algorithms.Landsat.simpleComposite(filtered)\n",
    "  evi = composite.expression(\n",
    "      '2.5 * ((NIR - RED) / (NIR + 6 * RED - 7.5 * BLUE + 1))', {\n",
    "      'NIR': composite.select('B5'),\n",
    "      'RED': composite.select('B4'),\n",
    "      'BLUE': composite.select('B2') \n",
    "  }).rename('EVI').set('month', m)\n",
    "  return evi"
   ]
  },
  {
   "cell_type": "code",
   "execution_count": null,
   "id": "73d432e7",
   "metadata": {},
   "outputs": [],
   "source": [
    "composites = ee.ImageCollection.fromImages(months.map(func_evi))"
   ]
  },
  {
   "cell_type": "code",
   "execution_count": null,
   "id": "a57ebf6c",
   "metadata": {},
   "outputs": [],
   "source": [
    "# print(composites)"
   ]
  },
  {
   "cell_type": "code",
   "execution_count": null,
   "id": "54c8cd0d",
   "metadata": {},
   "outputs": [],
   "source": [
    "evi_first = ee.Image(composites.first().clip(bf_boarder))\n",
    "evi_palette = 'FFFFFF, CE7E45, DF923D, F1B555, FCD163, 99B718, 74A901, 66A000, 529400, 3E8601, 207401, 056201, 004C00, 023B01, 012E01, 011D01, 011301'\n",
    "eviViz = {'min': -5, 'max': 2 ,'palette':evi_palette}\n",
    "Map.addLayer(evi_first, eviViz, 'evi first')"
   ]
  },
  {
   "cell_type": "markdown",
   "id": "4c34dce6",
   "metadata": {},
   "source": [
    "##### Landsat EVI: each year to calculate anomalies"
   ]
  },
  {
   "cell_type": "code",
   "execution_count": null,
   "id": "39e7f601",
   "metadata": {},
   "outputs": [],
   "source": [
    "# Load landsat image\n",
    "imageCollection = ee.ImageCollection('LANDSAT/LC08/C01/T1') \\\n",
    "                    .filterDate('2000-10-01', '2020-12-31') \\\n",
    "                    .filterBounds(bf_boarder)"
   ]
  },
  {
   "cell_type": "code",
   "execution_count": null,
   "id": "0d1bd8c3",
   "metadata": {},
   "outputs": [],
   "source": [
    "startyear = 2000\n",
    "endyear = 2020\n",
    "year = startyear"
   ]
  },
  {
   "cell_type": "code",
   "execution_count": null,
   "id": "4482da02",
   "metadata": {},
   "outputs": [],
   "source": [
    "startDate=ee.Date.fromYMD(year,1,1)\n",
    "endDate=ee.Date.fromYMD(year,12,31)"
   ]
  },
  {
   "cell_type": "code",
   "execution_count": null,
   "id": "226f8142",
   "metadata": {},
   "outputs": [],
   "source": [
    "months = ee.List.sequence(1, 12)"
   ]
  },
  {
   "cell_type": "code",
   "execution_count": null,
   "id": "4ae7a154",
   "metadata": {},
   "outputs": [],
   "source": [
    "def func_evi(m):\n",
    "  filtered = imageCollection.filter(ee.Filter.calendarRange(**{\n",
    "    'start': m,\n",
    "    'field': 'month'\n",
    "  }))\n",
    "  composite = ee.Algorithms.Landsat.simpleComposite(filtered)\n",
    "  evi = composite.expression(\n",
    "      '2.5 * ((NIR - RED) / (NIR + 6 * RED - 7.5 * BLUE + 1))', {\n",
    "      'NIR': composite.select('B5'),\n",
    "      'RED': composite.select('B4'),\n",
    "      'BLUE': composite.select('B2') \n",
    "  }).rename('EVI').set('month', m)\n",
    "  return evi"
   ]
  },
  {
   "cell_type": "code",
   "execution_count": null,
   "id": "95c2fcae",
   "metadata": {},
   "outputs": [],
   "source": [
    "for year in range(startyear, endyear+1, 1):\n",
    "    startDate=ee.Date.fromYMD(year,1,1)\n",
    "    endDate=ee.Date.fromYMD(year,12,31)\n",
    "    imageCollection = ee.ImageCollection('LANDSAT/LC08/C01/T1') \\\n",
    "                    .filterDate(startDate, endDate) \\\n",
    "                    .filterBounds(bf_boarder)\n",
    "    composites = ee.ImageCollection.fromImages(months.map(func_evi))"
   ]
  },
  {
   "cell_type": "code",
   "execution_count": null,
   "id": "b2c6cbf2",
   "metadata": {},
   "outputs": [],
   "source": [
    "evi_first = ee.Image(composites.first().clip(bf_boarder))\n",
    "evi_palette = 'FFFFFF, CE7E45, DF923D, F1B555, FCD163, 99B718, 74A901, 66A000, 529400, 3E8601, 207401, 056201, 004C00, 023B01, 012E01, 011D01, 011301'\n",
    "eviViz = {'min': -5, 'max': 2 ,'palette':evi_palette}\n",
    "Map.addLayer(evi_first, eviViz, 'evi first')"
   ]
  },
  {
   "cell_type": "markdown",
   "id": "703b4452",
   "metadata": {},
   "source": [
    "#### Landsat EVI APP"
   ]
  },
  {
   "cell_type": "code",
   "execution_count": null,
   "id": "03d7fcb8",
   "metadata": {},
   "outputs": [],
   "source": [
    "import os\n",
    "import ee\n",
    "import geemap\n",
    "import ipywidgets as widgets"
   ]
  },
  {
   "cell_type": "code",
   "execution_count": null,
   "id": "1d020ad4",
   "metadata": {},
   "outputs": [],
   "source": [
    "geemap.ee_export_image?"
   ]
  },
  {
   "cell_type": "code",
   "execution_count": null,
   "id": "c9ecf410",
   "metadata": {},
   "outputs": [],
   "source": [
    "style = {'description_width': 'initial'}\n",
    "title = widgets.Text(\n",
    "    description='Title:',\n",
    "    value='Landsat Timelapse',\n",
    "    width=200,\n",
    "    style=style\n",
    ")"
   ]
  },
  {
   "cell_type": "code",
   "execution_count": null,
   "id": "82a36fcb",
   "metadata": {},
   "outputs": [],
   "source": [
    "start_year = widgets.IntSlider(description='Start Year:', value=2013, min=2013, max=2021, style=style)"
   ]
  },
  {
   "cell_type": "code",
   "execution_count": null,
   "id": "09e2151f",
   "metadata": {},
   "outputs": [],
   "source": [
    "end_year = widgets.IntSlider(description='End Year:', value=2021, min=2013, max=2021, style=style)"
   ]
  },
  {
   "cell_type": "code",
   "execution_count": null,
   "id": "b2844cdd",
   "metadata": {},
   "outputs": [],
   "source": [
    "start_month = widgets.Dropdown(\n",
    "    description='Start Month:',\n",
    "    options=['01', '02', '03', '04', '05', '06', '07', '08', '09', '10', '11', '12'],\n",
    "    value='04',\n",
    "    style=style\n",
    ")"
   ]
  },
  {
   "cell_type": "code",
   "execution_count": null,
   "id": "9906136b",
   "metadata": {},
   "outputs": [],
   "source": [
    "end_month = widgets.Dropdown(\n",
    "    description='End Month:',\n",
    "    options=['01', '02', '03', '04', '05', '06', '07', '08', '09', '10', '11', '12'],\n",
    "    value='05',\n",
    "    style=style\n",
    ")"
   ]
  },
  {
   "cell_type": "code",
   "execution_count": null,
   "id": "ac57119c",
   "metadata": {},
   "outputs": [],
   "source": [
    "start_day = widgets.Dropdown(\n",
    "    description='Start Day:',\n",
    "    options=['01', '02', '03', '04', '05', '06', '07', '08', '09', '10',\n",
    "             '11', '12', '13', '14', '15', '16', '17', '18', '19', '20',\n",
    "             '21', '22', '23', '24', '25', '26', '27', '28', '29', '30', '31'],\n",
    "    value='11',\n",
    "    style=style\n",
    ")"
   ]
  },
  {
   "cell_type": "code",
   "execution_count": null,
   "id": "62559e70",
   "metadata": {},
   "outputs": [],
   "source": [
    "end_day = widgets.Dropdown(\n",
    "    description='End Day:',\n",
    "    options=['01', '02', '03', '04', '05', '06', '07', '08', '09', '10',\n",
    "             '11', '12', '13', '14', '15', '16', '17', '18', '19', '20',\n",
    "             '21', '22', '23', '24', '25', '26', '27', '28', '29', '30', '31'],\n",
    "    value='18',\n",
    "    style=style\n",
    ")"
   ]
  },
  {
   "cell_type": "code",
   "execution_count": null,
   "id": "774323d2",
   "metadata": {},
   "outputs": [],
   "source": [
    "hbox_start = widgets.HBox([start_year, start_month, start_day])\n",
    "hbox_start"
   ]
  },
  {
   "cell_type": "code",
   "execution_count": null,
   "id": "acab7605",
   "metadata": {},
   "outputs": [],
   "source": [
    "hbox_end = widgets.HBox([end_year, end_month, end_day])\n",
    "hbox_end"
   ]
  },
  {
   "cell_type": "code",
   "execution_count": null,
   "id": "c7536334",
   "metadata": {},
   "outputs": [],
   "source": [
    "start_date = str(start_year.value) + '-' + str(start_month.value) + '-' + str(start_day.value)\n",
    "end_date = str(end_year.value) + '-' + str(end_month.value) + '-' + str(end_day.value)\n",
    "print(start_date)\n",
    "print(end_date)"
   ]
  },
  {
   "cell_type": "code",
   "execution_count": null,
   "id": "058a0c6e",
   "metadata": {},
   "outputs": [],
   "source": [
    "ee.Initialize()\n",
    "# Create default map\n",
    "Map = geemap.Map(center=(12.2395,  -1.5584), zoom=10, lite_mode=False) \n",
    "Map.add_basemap('HYBRID')\n",
    "Map"
   ]
  },
  {
   "cell_type": "code",
   "execution_count": null,
   "id": "e4c2456f",
   "metadata": {},
   "outputs": [],
   "source": [
    "bf_boarder = ee.FeatureCollection('USDOS/LSIB_SIMPLE/2017')\\\n",
    "               .filter(ee.Filter.eq('country_na', 'Burkina Faso'))\n",
    "mask = bf_boarder.geometry()"
   ]
  },
  {
   "cell_type": "code",
   "execution_count": null,
   "id": "3f906bc7",
   "metadata": {},
   "outputs": [],
   "source": [
    "# Load landsat image\n",
    "imageCollection = ee.ImageCollection('LANDSAT/LC08/C01/T1') \\\n",
    "                    .filterDate(start_date, end_date) \\\n",
    "                    .filterBounds(bf_boarder)"
   ]
  },
  {
   "cell_type": "code",
   "execution_count": null,
   "id": "5411f2cb",
   "metadata": {},
   "outputs": [],
   "source": [
    "# Function to calculate and add an EVI band\n",
    "def addEVI(image):\n",
    "    EVI = image.expression(\n",
    "      '2.5 * ((NIR - RED) / (NIR + 6 * RED - 7.5 * BLUE + 1))', {\n",
    "      'NIR' : image.select('B5'),\n",
    "      'RED' : image.select('B4'),\n",
    "      'BLUE': image.select('B2')}).rename('EVI')\n",
    "    return image.addBands(EVI)"
   ]
  },
  {
   "cell_type": "code",
   "execution_count": null,
   "id": "ad84fc13",
   "metadata": {},
   "outputs": [],
   "source": [
    "# Add NDVI band to image collection\n",
    "imageCollection = imageCollection.map(addEVI)"
   ]
  },
  {
   "cell_type": "code",
   "execution_count": null,
   "id": "32095e6b",
   "metadata": {},
   "outputs": [],
   "source": [
    "# Map.addLayer(imageCollection.first().clip(bf_boarder), {}, 'first')"
   ]
  },
  {
   "cell_type": "code",
   "execution_count": null,
   "id": "133f6993",
   "metadata": {},
   "outputs": [],
   "source": [
    "EVI = ee.Image(imageCollection.select('EVI').mean().clip(bf_boarder))\n",
    "EVI_palette = 'FFFFFF, CE7E45, DF923D, F1B555, FCD163, 99B718, 74A901, 66A000, 529400, 3E8601, 207401, 056201, 004C00, 023B01, 012E01, 011D01, 011301'\n",
    "EVIViz = {'min': -0.3, 'max': 1 ,'palette':EVI_palette}\n",
    "Map.addLayer(EVI, EVIViz, start_date + 'to' + end_date)"
   ]
  },
  {
   "cell_type": "markdown",
   "id": "b4cfd5f3",
   "metadata": {},
   "source": [
    "##### Exporting all bands as one single image"
   ]
  },
  {
   "cell_type": "code",
   "execution_count": null,
   "id": "7cacd9ee",
   "metadata": {},
   "outputs": [],
   "source": [
    "out_dir = os.path.join(os.path.expanduser('~'), 'Downloads')\n",
    "filename = os.path.join(out_dir, 'EVI' + start_date+'to'+end_date+'.tif')"
   ]
  },
  {
   "cell_type": "code",
   "execution_count": null,
   "id": "a16bdd9e",
   "metadata": {},
   "outputs": [],
   "source": [
    "geemap.ee_export_image(EVI, filename=filename, scale=900, region=bf_boarder.geometry(), file_per_band=False)"
   ]
  },
  {
   "cell_type": "markdown",
   "id": "23c11f31",
   "metadata": {},
   "source": [
    "##### Exporting each band as one image"
   ]
  },
  {
   "cell_type": "code",
   "execution_count": null,
   "id": "ba8412ca",
   "metadata": {},
   "outputs": [],
   "source": [
    "geemap.ee_export_image(NDVI, filename=filename, scale=900, region=bf_boarder.geometry(), file_per_band=True)"
   ]
  },
  {
   "cell_type": "markdown",
   "id": "b4b51c2f",
   "metadata": {},
   "source": [
    "##### Exporting an image to Google Drive"
   ]
  },
  {
   "cell_type": "code",
   "execution_count": null,
   "id": "cf538845",
   "metadata": {},
   "outputs": [],
   "source": [
    "# geemap.ee_export_image_to_drive(NDVI, description=start_date + 'to' + end_date, folder='export', region=bf_boarder, scale=30)"
   ]
  },
  {
   "cell_type": "markdown",
   "id": "fb80959e",
   "metadata": {},
   "source": [
    "##### Exporting maps as HTML"
   ]
  },
  {
   "cell_type": "code",
   "execution_count": null,
   "id": "095159d3",
   "metadata": {},
   "outputs": [],
   "source": [
    "# Exporting maps as HTML\n",
    "download_dir = os.path.join(os.path.expanduser('~'), 'Downloads')\n",
    "if not os.path.exists(download_dir):\n",
    "    os.makedirs(download_dir)\n",
    "html_file = os.path.join(download_dir, 'Myhtml.html')\n",
    "download_dir = os.path.join(os.path.expanduser('~'), 'Downloads')"
   ]
  },
  {
   "cell_type": "code",
   "execution_count": null,
   "id": "5486e01b",
   "metadata": {},
   "outputs": [],
   "source": [
    "Map.to_html(outfile=html_file, title= 'NDVI', width='100%', height='880px')"
   ]
  },
  {
   "cell_type": "markdown",
   "id": "7639424a",
   "metadata": {},
   "source": [
    "##### Exporting maps as PNG/JPG"
   ]
  },
  {
   "cell_type": "code",
   "execution_count": null,
   "id": "eeaa4250",
   "metadata": {},
   "outputs": [],
   "source": [
    "png_file = os.path.join(download_dir, 'my_map.png')\n",
    "Map.to_image(outfile=png_file, monitor=1)"
   ]
  },
  {
   "cell_type": "code",
   "execution_count": null,
   "id": "83c39e53",
   "metadata": {},
   "outputs": [],
   "source": [
    "jpg_file = os.path.join(download_dir, 'my_map.jpg')\n",
    "Map.to_image(outfile=jpg_file, monitor=1)"
   ]
  },
  {
   "cell_type": "markdown",
   "id": "25416978",
   "metadata": {},
   "source": [
    "#### Masking\n",
    "Use image.updateMask() to set the opacity of individual pixels based on where pixels in a mask image are non-zero. Pixels equal to zero in the mask are excluded from computations and the opacity is set to 0 for display.\n",
    "\n",
    "The following example uses an NDWI threshold to update the mask on the NDWI layer created previously."
   ]
  },
  {
   "cell_type": "code",
   "execution_count": null,
   "id": "b3262da6",
   "metadata": {},
   "outputs": [],
   "source": [
    "# Mask the non-vegetation parts of the image, where NDVI < 0.4.\n",
    "ndviMasked = ndvi_first.updateMask(ndvi_first.gte(0.4))\n",
    "Map.addLayer(ndviMasked, ndviViz, 'NDVI masked')"
   ]
  },
  {
   "cell_type": "code",
   "execution_count": null,
   "id": "ea2e37ad",
   "metadata": {},
   "outputs": [],
   "source": [
    "# Mask the non-vegetation parts of the image, where EVI < 0.5.\n",
    "eviMasked = evi_first.updateMask(evi_first.gte(0.5))\n",
    "Map.addLayer(eviMasked, ndviViz, 'EVI masked')"
   ]
  },
  {
   "cell_type": "markdown",
   "id": "93c16cf3",
   "metadata": {},
   "source": [
    "#### Visualization images\n",
    "Use the image.visualize() method to convert an image into an 8-bit RGB image for display or export. For example, to convert the false-color composite and NDVI to 3-band display images."
   ]
  },
  {
   "cell_type": "code",
   "execution_count": null,
   "id": "a1f667f8",
   "metadata": {},
   "outputs": [],
   "source": [
    "# Create visualization layers.\n",
    "imageRGB = image.visualize(**{'bands': ['B5', 'B4', 'B3'],\n",
    "              'min': 0.0,\n",
    "              'max': 3000,\n",
    "              'opacity': 1.0,\n",
    "              'gamma': 1.2})\n",
    "ndviRGB = ndviMasked.visualize(**{\n",
    "  'min': 0.5,\n",
    "  'max': 1,\n",
    "  'palette': ['eaff00', 'aeff00', '59ff00', '00ff04', '5ac773', '64e366', '00FF00']})\n",
    "\n",
    "Map.addLayer(imageRGB, {}, 'imageRGB', False)\n",
    "Map.addLayer(ndviRGB, {}, 'ndviRGB', False)"
   ]
  },
  {
   "cell_type": "code",
   "execution_count": null,
   "id": "4136c3a0",
   "metadata": {},
   "outputs": [],
   "source": [
    "eviRGB = eviMasked.visualize(**{\n",
    "  'palette': ['FF0000', '00FF00']})\n",
    "Map.addLayer(eviRGB, {}, 'eviRGB', False)"
   ]
  },
  {
   "cell_type": "markdown",
   "id": "02761c5d",
   "metadata": {},
   "source": [
    "#### Mosaicking\n",
    "The mosaic() method renders layers in the output image according to their order in the input collection. The following example uses mosaic() to combine the masked NDVI and the false color composite and obtain a new visualization."
   ]
  },
  {
   "cell_type": "code",
   "execution_count": null,
   "id": "b89f0e1f",
   "metadata": {},
   "outputs": [],
   "source": [
    "# Mosaic the visualization layers and display (or export).\n",
    "ndvi_mosaic = ee.ImageCollection([imageRGB, ndviRGB]).mosaic()\n",
    "Map.addLayer(ndvi_mosaic, {}, 'ndvi mosaic');"
   ]
  },
  {
   "cell_type": "code",
   "execution_count": null,
   "id": "904ff9f4",
   "metadata": {},
   "outputs": [],
   "source": [
    "# Mosaic the visualization layers and display (or export).\n",
    "evi_mosaic = ee.ImageCollection([imageRGB, eviRGB]).mosaic()\n",
    "Map.addLayer(evi_mosaic, {}, 'evi mosaic');"
   ]
  },
  {
   "cell_type": "markdown",
   "id": "cc690d51",
   "metadata": {},
   "source": [
    "#### Clipping\n",
    "The image.clip() method is useful for achieving cartographic effects."
   ]
  },
  {
   "cell_type": "code",
   "execution_count": null,
   "id": "9bc1ed49",
   "metadata": {},
   "outputs": [],
   "source": [
    "# Clip the mosaic by Burkina Faso boundary\n",
    "ndvi_clipped = ndvi_mosaic.clip(bf_boarder)\n",
    "evi_clipped = evi_mosaic.clip(bf_boarder)\n",
    "Map.addLayer(ndvi_clipped, {}, 'ndvi_clipped')\n",
    "Map.addLayer(evi_clipped, {}, 'evi_clipped')"
   ]
  },
  {
   "cell_type": "markdown",
   "id": "f6976c45",
   "metadata": {},
   "source": [
    "#### Extract urbanized area"
   ]
  },
  {
   "cell_type": "code",
   "execution_count": null,
   "id": "aff39516",
   "metadata": {},
   "outputs": [],
   "source": [
    "import ee\n",
    "import geemap"
   ]
  },
  {
   "cell_type": "code",
   "execution_count": null,
   "id": "9d6d16e5",
   "metadata": {},
   "outputs": [],
   "source": [
    "# Create default map\n",
    "Map = geemap.Map(center=(12.2395,  -1.5584), zoom=10, lite_mode=False) \n",
    "Map.add_basemap('HYBRID')\n",
    "Map"
   ]
  },
  {
   "cell_type": "code",
   "execution_count": null,
   "id": "05cf1baa",
   "metadata": {},
   "outputs": [],
   "source": [
    "bf_boarder = ee.FeatureCollection('USDOS/LSIB_SIMPLE/2017')\\\n",
    "               .filter(ee.Filter.eq('country_na', 'Burkina Faso'))\n",
    "mask = bf_boarder.geometry()"
   ]
  },
  {
   "cell_type": "code",
   "execution_count": null,
   "id": "29b3cfeb",
   "metadata": {},
   "outputs": [],
   "source": [
    "# Load landsat image\n",
    "image = ee.ImageCollection('LANDSAT/LC08/C01/T1_SR') \\\n",
    "          .filterDate('2000-01-01', '2020-12-31') \\\n",
    "          .filterBounds(bf_boarder) "
   ]
  },
  {
   "cell_type": "markdown",
   "id": "45ea349e",
   "metadata": {},
   "source": [
    "##### Landsat NDWI: average all months"
   ]
  },
  {
   "cell_type": "code",
   "execution_count": null,
   "id": "780d62aa",
   "metadata": {},
   "outputs": [],
   "source": [
    "startyear = 2000\n",
    "endyear = 2020\n",
    "year = startyear"
   ]
  },
  {
   "cell_type": "code",
   "execution_count": null,
   "id": "997d53a5",
   "metadata": {},
   "outputs": [],
   "source": [
    "startDate=ee.Date.fromYMD(year,1,1)\n",
    "endDate=ee.Date.fromYMD(year,12,31)"
   ]
  },
  {
   "cell_type": "code",
   "execution_count": null,
   "id": "8b93b25b",
   "metadata": {},
   "outputs": [],
   "source": [
    "months = ee.List.sequence(1, 12)"
   ]
  },
  {
   "cell_type": "code",
   "execution_count": null,
   "id": "4969590e",
   "metadata": {},
   "outputs": [],
   "source": [
    "def func_ndwi(m):\n",
    "  filtered = imageCollection.filter(ee.Filter.calendarRange(**{\n",
    "    'start': m,\n",
    "    'field': 'month'\n",
    "  }))\n",
    "  composite = ee.Algorithms.Landsat.simpleComposite(filtered)\n",
    "  return composite.normalizedDifference(['B3', 'B5']).rename('NDWI') \\\n",
    "      .set('month', m)"
   ]
  },
  {
   "cell_type": "code",
   "execution_count": null,
   "id": "d7d3bd5d",
   "metadata": {},
   "outputs": [],
   "source": [
    "composites_ndwi = ee.ImageCollection.fromImages(months.map(func_ndwi))"
   ]
  },
  {
   "cell_type": "code",
   "execution_count": null,
   "id": "c2aaef1a",
   "metadata": {},
   "outputs": [],
   "source": [
    "composites_ndvi = ee.ImageCollection.fromImages(months.map(func_ndvi))"
   ]
  },
  {
   "cell_type": "code",
   "execution_count": null,
   "id": "58074377",
   "metadata": {},
   "outputs": [],
   "source": [
    "ndwi = composites_ndwi.first()\n",
    "ndvi = composites_ndvi.first()"
   ]
  },
  {
   "cell_type": "markdown",
   "id": "65de1b09",
   "metadata": {},
   "source": [
    "To perform per-pixel comparisons between images, use relational operators. To extract urbanized areas in an image, this example uses relational operators to threshold spectral indices, combining the thresholds with And():"
   ]
  },
  {
   "cell_type": "code",
   "execution_count": null,
   "id": "fcb0e1d1",
   "metadata": {},
   "outputs": [],
   "source": [
    "# Create a binary layer using logical operations.\n",
    "bare = ndvi.lt(0.2).And(ndwi.lt(0))"
   ]
  },
  {
   "cell_type": "code",
   "execution_count": null,
   "id": "34a417bc",
   "metadata": {},
   "outputs": [],
   "source": [
    "# Mask and display the binary layer.\n",
    "Map.addLayer(bare.selfMask(), {}, 'bare')"
   ]
  },
  {
   "cell_type": "markdown",
   "id": "e2805026",
   "metadata": {},
   "source": [
    "This example creates zones of urbanization in a nighttime lights image using relational operators and image.add():"
   ]
  },
  {
   "cell_type": "code",
   "execution_count": null,
   "id": "383729a6",
   "metadata": {},
   "outputs": [],
   "source": [
    "Map = geemap.Map(center=(12.2395,  -1.5584), zoom=10, lite_mode=False) \n",
    "Map.add_basemap('HYBRID')\n",
    "Map"
   ]
  },
  {
   "cell_type": "code",
   "execution_count": null,
   "id": "b250fab6",
   "metadata": {},
   "outputs": [],
   "source": [
    "bf_boarder = ee.FeatureCollection('USDOS/LSIB_SIMPLE/2017')\\\n",
    "               .filter(ee.Filter.eq('country_na', 'Burkina Faso'))\n",
    "mask = bf_boarder.geometry()"
   ]
  },
  {
   "cell_type": "code",
   "execution_count": null,
   "id": "f30cc8d0",
   "metadata": {},
   "outputs": [],
   "source": [
    "# Load a 2014 nightlights image.\n",
    "nl2013 = ee.Image('NOAA/DMSP-OLS/NIGHTTIME_LIGHTS/F182013') \\\n",
    "           .clip(bf_boarder)\n",
    "lights = nl2013.select('stable_lights')\n",
    "Map.addLayer(lights, {}, 'Nighttime lights')"
   ]
  },
  {
   "cell_type": "code",
   "execution_count": null,
   "id": "34c700d3",
   "metadata": {},
   "outputs": [],
   "source": [
    "# Define arbitrary thresholds on the 6-bit stable lights band.\n",
    "zones = lights.gt(30).add(lights.gt(55)).add(lights.gt(62)).selfMask()"
   ]
  },
  {
   "cell_type": "code",
   "execution_count": null,
   "id": "6d34c16e",
   "metadata": {},
   "outputs": [],
   "source": [
    "# Display the thresholded image as three distinct zones near Paris.\n",
    "palette = ['000000', '0000FF', '00FF00', 'FF0000']\n",
    "Map.addLayer(zones, {'min': 0, 'max': 3, 'palette': palette}, 'development zones')"
   ]
  },
  {
   "cell_type": "code",
   "execution_count": null,
   "id": "a21bdc78",
   "metadata": {},
   "outputs": [],
   "source": [
    "# Create zones using an expression, display.\n",
    "zonesExp = nl2013.expression(\n",
    "    \"(b('stable_lights') > 62) ? 3\" +\n",
    "      \": (b('stable_lights') > 55) ? 2\" +\n",
    "        \": (b('stable_lights') > 30) ? 1\" +\n",
    "          \": 0\"\n",
    ")\n",
    "zonesExp = zonesExp.clip(bf_boarder)\n",
    "Map.addLayer(zonesExp.selfMask(), {'min': 0, 'max': 3, 'palette': palette}, 'development zones (ternary)')"
   ]
  },
  {
   "cell_type": "markdown",
   "id": "c46abb00",
   "metadata": {},
   "source": [
    "### Sentinel-2 Data"
   ]
  },
  {
   "cell_type": "markdown",
   "id": "defb3292",
   "metadata": {},
   "source": [
    "##### Sentinel-2 NDVI"
   ]
  },
  {
   "cell_type": "code",
   "execution_count": null,
   "id": "e22b0094",
   "metadata": {},
   "outputs": [],
   "source": [
    "import ee\n",
    "import geemap"
   ]
  },
  {
   "cell_type": "code",
   "execution_count": null,
   "id": "7500c71b",
   "metadata": {
    "scrolled": false
   },
   "outputs": [],
   "source": [
    "Map = geemap.Map(center=(12.2395,  -1.5584), zoom=6, lite_mode=False) \n",
    "Map.add_basemap('HYBRID')\n",
    "Map"
   ]
  },
  {
   "cell_type": "code",
   "execution_count": null,
   "id": "6caf2201",
   "metadata": {},
   "outputs": [],
   "source": [
    "bf_boarder = ee.FeatureCollection('USDOS/LSIB_SIMPLE/2017')\\\n",
    "               .filter(ee.Filter.eq('country_na', 'Burkina Faso'))"
   ]
  },
  {
   "cell_type": "code",
   "execution_count": null,
   "id": "e55c27ad",
   "metadata": {},
   "outputs": [],
   "source": [
    "# information on cloud\n",
    "def maskcloud1(image):\n",
    "   QA60 = image.select(['QA60'])\n",
    "   return image.updateMask(QA60.lt(20))"
   ]
  },
  {
   "cell_type": "code",
   "execution_count": null,
   "id": "3b61e98d",
   "metadata": {},
   "outputs": [],
   "source": [
    "S2 = ee.ImageCollection(\"COPERNICUS/S2\") \\\n",
    "       .filterBounds(bf_boarder) \\\n",
    "       .filterDate('2015-06-24', '2020-12-31') \\\n",
    "       .map(maskcloud1)"
   ]
  },
  {
   "cell_type": "code",
   "execution_count": null,
   "id": "1a274862",
   "metadata": {},
   "outputs": [],
   "source": [
    "# Function to calculate and add an NDVI band\n",
    "def addNDVI(image):\n",
    "   return image.addBands(image.normalizedDifference(['B8', 'B4']))"
   ]
  },
  {
   "cell_type": "code",
   "execution_count": null,
   "id": "e2a03482",
   "metadata": {},
   "outputs": [],
   "source": [
    "# Add NDVI band to image collection\n",
    "S2 = S2.map(addNDVI)"
   ]
  },
  {
   "cell_type": "code",
   "execution_count": null,
   "id": "a8f69758",
   "metadata": {},
   "outputs": [],
   "source": [
    "# Extract NDVI band and choose NDVI median image for a period\n",
    "NDVI = S2.select(['nd'])\n",
    "ndvi_check = NDVI.filterDate('2016-10-01', '2016-10-30').mean().clip(bf_boarder)"
   ]
  },
  {
   "cell_type": "code",
   "execution_count": null,
   "id": "001571c1",
   "metadata": {},
   "outputs": [],
   "source": [
    "ndvi_palette = 'FFFFFF, CE7E45, DF923D, F1B555, FCD163, 99B718, 74A901, 66A000, 529400, 3E8601, 207401, 056201, 004C00, 023B01, 012E01, 011D01, 011301'\n",
    "ndviViz = {'min': 0, 'max': 0.5 ,'palette':ndvi_palette}\n",
    "Map.addLayer(ndvi_check, ndviViz, 'ndvi')"
   ]
  },
  {
   "cell_type": "markdown",
   "id": "08e9c177",
   "metadata": {},
   "source": [
    "#### Sentinel-2 NDVI APP"
   ]
  },
  {
   "cell_type": "code",
   "execution_count": null,
   "id": "4dc28680",
   "metadata": {},
   "outputs": [],
   "source": [
    "import os\n",
    "import ee\n",
    "import geemap\n",
    "import ipywidgets as widgets"
   ]
  },
  {
   "cell_type": "code",
   "execution_count": null,
   "id": "8606b13f",
   "metadata": {},
   "outputs": [],
   "source": [
    "style = {'description_width': 'initial'}\n",
    "title = widgets.Text(\n",
    "    description='Title:',\n",
    "    value='Landsat Timelapse',\n",
    "    width=200,\n",
    "    style=style\n",
    ")"
   ]
  },
  {
   "cell_type": "code",
   "execution_count": null,
   "id": "168e1032",
   "metadata": {},
   "outputs": [],
   "source": [
    "start_year = widgets.IntSlider(description='Start Year:', value=2015, min=2015, max=2021, style=style)"
   ]
  },
  {
   "cell_type": "code",
   "execution_count": null,
   "id": "0176a31f",
   "metadata": {},
   "outputs": [],
   "source": [
    "end_year = widgets.IntSlider(description='End Year:', value=2021, min=2015, max=2021, style=style)"
   ]
  },
  {
   "cell_type": "code",
   "execution_count": null,
   "id": "18804040",
   "metadata": {},
   "outputs": [],
   "source": [
    "start_month = widgets.Dropdown(\n",
    "    description='Start Month:',\n",
    "    options=['01', '02', '03', '04', '05', '06', '07', '08', '09', '10', '11', '12'],\n",
    "    value='06',\n",
    "    style=style\n",
    ")"
   ]
  },
  {
   "cell_type": "code",
   "execution_count": null,
   "id": "d423feb0",
   "metadata": {},
   "outputs": [],
   "source": [
    "end_month = widgets.Dropdown(\n",
    "    description='End Month:',\n",
    "    options=['01', '02', '03', '04', '05', '06', '07', '08', '09', '10', '11', '12'],\n",
    "    value='05',\n",
    "    style=style\n",
    ")"
   ]
  },
  {
   "cell_type": "code",
   "execution_count": null,
   "id": "6a51a499",
   "metadata": {},
   "outputs": [],
   "source": [
    "start_day = widgets.Dropdown(\n",
    "    description='Start Day:',\n",
    "    options=['01', '02', '03', '04', '05', '06', '07', '08', '09', '10',\n",
    "             '11', '12', '13', '14', '15', '16', '17', '18', '19', '20',\n",
    "             '21', '22', '23', '24', '25', '26', '27', '28', '29', '30', '31'],\n",
    "    value='23',\n",
    "    style=style\n",
    ")"
   ]
  },
  {
   "cell_type": "code",
   "execution_count": null,
   "id": "dd6f6cab",
   "metadata": {},
   "outputs": [],
   "source": [
    "end_day = widgets.Dropdown(\n",
    "    description='End Day:',\n",
    "    options=['01', '02', '03', '04', '05', '06', '07', '08', '09', '10',\n",
    "             '11', '12', '13', '14', '15', '16', '17', '18', '19', '20',\n",
    "             '21', '22', '23', '24', '25', '26', '27', '28', '29', '30', '31'],\n",
    "    value='23',\n",
    "    style=style\n",
    ")"
   ]
  },
  {
   "cell_type": "code",
   "execution_count": null,
   "id": "94e697e8",
   "metadata": {},
   "outputs": [],
   "source": [
    "hbox_start = widgets.HBox([start_year, start_month, start_day])\n",
    "hbox_start"
   ]
  },
  {
   "cell_type": "code",
   "execution_count": null,
   "id": "bfb74ffd",
   "metadata": {},
   "outputs": [],
   "source": [
    "hbox_end = widgets.HBox([end_year, end_month, end_day])\n",
    "hbox_end"
   ]
  },
  {
   "cell_type": "code",
   "execution_count": null,
   "id": "40f636c8",
   "metadata": {},
   "outputs": [],
   "source": [
    "start_date = str(start_year.value) + '-' + str(start_month.value) + '-' + str(start_day.value)\n",
    "end_date = str(end_year.value) + '-' + str(end_month.value) + '-' + str(end_day.value)\n",
    "print(start_date)\n",
    "print(end_date)"
   ]
  },
  {
   "cell_type": "code",
   "execution_count": null,
   "id": "805abc62",
   "metadata": {},
   "outputs": [],
   "source": [
    "ee.Initialize()\n",
    "# Create default map\n",
    "Map = geemap.Map(center=(12.2395,  -1.5584), zoom=10, lite_mode=False) \n",
    "Map.add_basemap('HYBRID')\n",
    "Map"
   ]
  },
  {
   "cell_type": "code",
   "execution_count": null,
   "id": "99dd49aa",
   "metadata": {},
   "outputs": [],
   "source": [
    "bf_boarder = ee.FeatureCollection('USDOS/LSIB_SIMPLE/2017')\\\n",
    "               .filter(ee.Filter.eq('country_na', 'Burkina Faso'))\n",
    "mask = bf_boarder.geometry()"
   ]
  },
  {
   "cell_type": "code",
   "execution_count": null,
   "id": "e1a6fc95",
   "metadata": {},
   "outputs": [],
   "source": [
    "# information on cloud\n",
    "def maskcloud1(image):\n",
    "   QA60 = image.select(['QA60'])\n",
    "   return image.updateMask(QA60.lt(20))"
   ]
  },
  {
   "cell_type": "code",
   "execution_count": null,
   "id": "b08f58e0",
   "metadata": {},
   "outputs": [],
   "source": [
    "S2 = ee.ImageCollection(\"COPERNICUS/S2\") \\\n",
    "       .filterBounds(bf_boarder) \\\n",
    "       .filterDate(start_date, end_date) \\\n",
    "       .map(maskcloud1)"
   ]
  },
  {
   "cell_type": "code",
   "execution_count": null,
   "id": "2608cf92",
   "metadata": {},
   "outputs": [],
   "source": [
    "# Function to calculate and add an NDVI band\n",
    "def addNDVI(image):\n",
    "   return image.addBands(image.normalizedDifference(['B8', 'B4']))"
   ]
  },
  {
   "cell_type": "code",
   "execution_count": null,
   "id": "f4e5e30e",
   "metadata": {},
   "outputs": [],
   "source": [
    "# Add NDVI band to image collection\n",
    "S2 = S2.map(addNDVI)"
   ]
  },
  {
   "cell_type": "code",
   "execution_count": null,
   "id": "8abaefa3",
   "metadata": {},
   "outputs": [],
   "source": [
    "NDVI = ee.Image(S2.select('nd').mean().clip(bf_boarder))\n",
    "NDVI_palette = 'FFFFFF, CE7E45, DF923D, F1B555, FCD163, 99B718, 74A901, 66A000, 529400, 3E8601, 207401, 056201, 004C00, 023B01, 012E01, 011D01, 011301'\n",
    "NDVIViz = {'min': 0, 'max': 0.4 ,'palette':NDVI_palette}\n",
    "Map.addLayer(NDVI, NDVIViz, start_date + 'to' + end_date)"
   ]
  },
  {
   "cell_type": "markdown",
   "id": "f0f85eba",
   "metadata": {},
   "source": [
    "##### Exporting all bands as one single image"
   ]
  },
  {
   "cell_type": "code",
   "execution_count": null,
   "id": "fae75f9d",
   "metadata": {},
   "outputs": [],
   "source": [
    "out_dir = os.path.join(os.path.expanduser('~'), 'Downloads')\n",
    "filename = os.path.join(out_dir, start_date+'to'+end_date+'.tif')"
   ]
  },
  {
   "cell_type": "code",
   "execution_count": null,
   "id": "d434df10",
   "metadata": {},
   "outputs": [],
   "source": [
    "geemap.ee_export_image(NDVI, filename=filename, scale=900, region=bf_boarder.geometry(), file_per_band=False)"
   ]
  },
  {
   "cell_type": "markdown",
   "id": "f0a170db",
   "metadata": {},
   "source": [
    "##### Exporting each band as one image"
   ]
  },
  {
   "cell_type": "code",
   "execution_count": null,
   "id": "8c05b48e",
   "metadata": {},
   "outputs": [],
   "source": [
    "geemap.ee_export_image(NDVI, filename=filename, scale=900, region=bf_boarder.geometry(), file_per_band=True)"
   ]
  },
  {
   "cell_type": "markdown",
   "id": "2d111935",
   "metadata": {},
   "source": [
    "##### Exporting an image to Google Drive"
   ]
  },
  {
   "cell_type": "code",
   "execution_count": null,
   "id": "facae7d6",
   "metadata": {},
   "outputs": [],
   "source": [
    "# geemap.ee_export_image_to_drive(NDVI, description=start_date + 'to' + end_date, folder='export', region=bf_boarder, scale=30)"
   ]
  },
  {
   "cell_type": "markdown",
   "id": "a7cb7a09",
   "metadata": {},
   "source": [
    "##### Exporting maps as HTML"
   ]
  },
  {
   "cell_type": "code",
   "execution_count": null,
   "id": "8466ca4a",
   "metadata": {},
   "outputs": [],
   "source": [
    "# Exporting maps as HTML\n",
    "download_dir = os.path.join(os.path.expanduser('~'), 'Downloads')\n",
    "if not os.path.exists(download_dir):\n",
    "    os.makedirs(download_dir)\n",
    "html_file = os.path.join(download_dir, 'Myhtml.html')\n",
    "download_dir = os.path.join(os.path.expanduser('~'), 'Downloads')"
   ]
  },
  {
   "cell_type": "code",
   "execution_count": null,
   "id": "1d892ed5",
   "metadata": {},
   "outputs": [],
   "source": [
    "Map.to_html(outfile=html_file, title= 'NDVI', width='100%', height='880px')"
   ]
  },
  {
   "cell_type": "markdown",
   "id": "65800539",
   "metadata": {},
   "source": [
    "##### Exporting maps as PNG/JPG"
   ]
  },
  {
   "cell_type": "code",
   "execution_count": null,
   "id": "0ab036f4",
   "metadata": {},
   "outputs": [],
   "source": [
    "png_file = os.path.join(download_dir, 'my_map.png')\n",
    "Map.to_image(outfile=png_file, monitor=1)"
   ]
  },
  {
   "cell_type": "code",
   "execution_count": null,
   "id": "58748dc5",
   "metadata": {},
   "outputs": [],
   "source": [
    "jpg_file = os.path.join(download_dir, 'my_map.jpg')\n",
    "Map.to_image(outfile=jpg_file, monitor=1)"
   ]
  },
  {
   "cell_type": "markdown",
   "id": "6b971ce9",
   "metadata": {},
   "source": [
    "##### Sentinel-2 EVI"
   ]
  },
  {
   "cell_type": "code",
   "execution_count": null,
   "id": "40e2e99b",
   "metadata": {},
   "outputs": [],
   "source": [
    "import ee\n",
    "import geemap"
   ]
  },
  {
   "cell_type": "code",
   "execution_count": null,
   "id": "1ed66303",
   "metadata": {},
   "outputs": [],
   "source": [
    "Map = geemap.Map(center=(12.2395,  -1.5584), zoom=6, lite_mode=False) \n",
    "Map.add_basemap('HYBRID')\n",
    "Map"
   ]
  },
  {
   "cell_type": "code",
   "execution_count": null,
   "id": "32ef0909",
   "metadata": {},
   "outputs": [],
   "source": [
    "bf_boarder = ee.FeatureCollection('USDOS/LSIB_SIMPLE/2017')\\\n",
    "               .filter(ee.Filter.eq('country_na', 'Burkina Faso'))"
   ]
  },
  {
   "cell_type": "code",
   "execution_count": null,
   "id": "418d36a4",
   "metadata": {},
   "outputs": [],
   "source": [
    "# Function to mask clouds using the Sentinel-2 QA band.\n",
    "def maskS2clouds(image):\n",
    "  qa = image.select('QA60')\n",
    "\n",
    "  # Bits 10 and 11 are clouds and cirrus, respectively.\n",
    "  cloudBitMask = ee.Number(2).pow(10).int()\n",
    "  cirrusBitMask = ee.Number(2).pow(11).int()\n",
    "\n",
    "  # Both flags should be set to zero, indicating clear conditions.\n",
    "  mask = qa.bitwiseAnd(cloudBitMask).eq(0).And(\n",
    "             qa.bitwiseAnd(cirrusBitMask).eq(0))\n",
    "\n",
    "  # Return the masked and scaled data.\n",
    "  return image.updateMask(mask).divide(10000)\n",
    "\n",
    "S2 = ee.ImageCollection(\"COPERNICUS/S2\") \\\n",
    "       .filterBounds(bf_boarder) \\\n",
    "       .filterDate('2015-06-24', '2020-12-31') "
   ]
  },
  {
   "cell_type": "code",
   "execution_count": null,
   "id": "86bfe6ee",
   "metadata": {},
   "outputs": [],
   "source": [
    "# Add EVI using an expression.\n",
    "def addEVI(image):\n",
    "    EVI = image.expression(\n",
    "      '2.5 * ((NIR - RED) / (NIR + 6 * RED - 7.5 * BLUE + 1))', {\n",
    "      'NIR' : image.select('B8'),\n",
    "      'RED' : image.select('B4'),\n",
    "      'BLUE': image.select('B2')}).rename('EVI')\n",
    "    return image.addBands(EVI)"
   ]
  },
  {
   "cell_type": "code",
   "execution_count": null,
   "id": "1400734c",
   "metadata": {},
   "outputs": [],
   "source": [
    "# Add EVI band to image collection\n",
    "S2 = S2.map(addEVI)"
   ]
  },
  {
   "cell_type": "code",
   "execution_count": null,
   "id": "c5cdbfe6",
   "metadata": {},
   "outputs": [],
   "source": [
    "# Extract EVI band and choose NDVI median image for a period\n",
    "EVI = S2.select(['EVI'])\n",
    "evi_check = EVI.filterDate('2016-10-01', '2016-10-30').mean().clip(bf_boarder)"
   ]
  },
  {
   "cell_type": "code",
   "execution_count": null,
   "id": "1de58d0b",
   "metadata": {},
   "outputs": [],
   "source": [
    "evi_palette = 'FFFFFF, CE7E45, DF923D, F1B555, FCD163, 99B718, 74A901, 66A000, 529400, 3E8601, 207401, 056201, 004C00, 023B01, 012E01, 011D01, 011301'\n",
    "eviViz = {'min': -5, 'max': 1 ,'palette':evi_palette}\n",
    "Map.addLayer(evi_check, eviViz, 'evi check')"
   ]
  },
  {
   "cell_type": "markdown",
   "id": "9f743002",
   "metadata": {},
   "source": [
    "#### Sentinel-2 EVI APP"
   ]
  },
  {
   "cell_type": "code",
   "execution_count": null,
   "id": "a17d9d29",
   "metadata": {},
   "outputs": [],
   "source": [
    "import os\n",
    "import ee\n",
    "import geemap\n",
    "import ipywidgets as widgets"
   ]
  },
  {
   "cell_type": "code",
   "execution_count": null,
   "id": "a4fbcd6c",
   "metadata": {},
   "outputs": [],
   "source": [
    "style = {'description_width': 'initial'}\n",
    "title = widgets.Text(\n",
    "    description='Title:',\n",
    "    value='Landsat Timelapse',\n",
    "    width=200,\n",
    "    style=style\n",
    ")"
   ]
  },
  {
   "cell_type": "code",
   "execution_count": null,
   "id": "e276b473",
   "metadata": {},
   "outputs": [],
   "source": [
    "start_year = widgets.IntSlider(description='Start Year:', value=2015, min=2015, max=2021, style=style)"
   ]
  },
  {
   "cell_type": "code",
   "execution_count": null,
   "id": "af3cbd52",
   "metadata": {},
   "outputs": [],
   "source": [
    "end_year = widgets.IntSlider(description='End Year:', value=2021, min=2015, max=2021, style=style)"
   ]
  },
  {
   "cell_type": "code",
   "execution_count": null,
   "id": "b5b338ec",
   "metadata": {},
   "outputs": [],
   "source": [
    "start_month = widgets.Dropdown(\n",
    "    description='Start Month:',\n",
    "    options=['01', '02', '03', '04', '05', '06', '07', '08', '09', '10', '11', '12'],\n",
    "    value='06',\n",
    "    style=style\n",
    ")"
   ]
  },
  {
   "cell_type": "code",
   "execution_count": null,
   "id": "5074e373",
   "metadata": {},
   "outputs": [],
   "source": [
    "end_month = widgets.Dropdown(\n",
    "    description='End Month:',\n",
    "    options=['01', '02', '03', '04', '05', '06', '07', '08', '09', '10', '11', '12'],\n",
    "    value='05',\n",
    "    style=style\n",
    ")"
   ]
  },
  {
   "cell_type": "code",
   "execution_count": null,
   "id": "2337e538",
   "metadata": {},
   "outputs": [],
   "source": [
    "start_day = widgets.Dropdown(\n",
    "    description='Start Day:',\n",
    "    options=['01', '02', '03', '04', '05', '06', '07', '08', '09', '10',\n",
    "             '11', '12', '13', '14', '15', '16', '17', '18', '19', '20',\n",
    "             '21', '22', '23', '24', '25', '26', '27', '28', '29', '30', '31'],\n",
    "    value='23',\n",
    "    style=style\n",
    ")"
   ]
  },
  {
   "cell_type": "code",
   "execution_count": null,
   "id": "44ff22ad",
   "metadata": {},
   "outputs": [],
   "source": [
    "end_day = widgets.Dropdown(\n",
    "    description='End Day:',\n",
    "    options=['01', '02', '03', '04', '05', '06', '07', '08', '09', '10',\n",
    "             '11', '12', '13', '14', '15', '16', '17', '18', '19', '20',\n",
    "             '21', '22', '23', '24', '25', '26', '27', '28', '29', '30', '31'],\n",
    "    value='23',\n",
    "    style=style\n",
    ")"
   ]
  },
  {
   "cell_type": "code",
   "execution_count": null,
   "id": "49d94f5c",
   "metadata": {},
   "outputs": [],
   "source": [
    "hbox_start = widgets.HBox([start_year, start_month, start_day])\n",
    "hbox_start"
   ]
  },
  {
   "cell_type": "code",
   "execution_count": null,
   "id": "6af1fe9e",
   "metadata": {},
   "outputs": [],
   "source": [
    "hbox_end = widgets.HBox([end_year, end_month, end_day])\n",
    "hbox_end"
   ]
  },
  {
   "cell_type": "code",
   "execution_count": null,
   "id": "17fb9f16",
   "metadata": {},
   "outputs": [],
   "source": [
    "start_date = str(start_year.value) + '-' + str(start_month.value) + '-' + str(start_day.value)\n",
    "end_date = str(end_year.value) + '-' + str(end_month.value) + '-' + str(end_day.value)\n",
    "print(start_date)\n",
    "print(end_date)"
   ]
  },
  {
   "cell_type": "code",
   "execution_count": null,
   "id": "64cc6493",
   "metadata": {},
   "outputs": [],
   "source": [
    "ee.Initialize()\n",
    "# Create default map\n",
    "Map = geemap.Map(center=(12.2395,  -1.5584), zoom=10, lite_mode=False) \n",
    "Map.add_basemap('HYBRID')\n",
    "Map"
   ]
  },
  {
   "cell_type": "code",
   "execution_count": null,
   "id": "23a06222",
   "metadata": {},
   "outputs": [],
   "source": [
    "bf_boarder = ee.FeatureCollection('USDOS/LSIB_SIMPLE/2017')\\\n",
    "               .filter(ee.Filter.eq('country_na', 'Burkina Faso'))\n",
    "mask = bf_boarder.geometry()"
   ]
  },
  {
   "cell_type": "code",
   "execution_count": null,
   "id": "c86fe862",
   "metadata": {},
   "outputs": [],
   "source": [
    "# information on cloud\n",
    "def maskcloud1(image):\n",
    "   QA60 = image.select(['QA60'])\n",
    "   return image.updateMask(QA60.lt(20))"
   ]
  },
  {
   "cell_type": "code",
   "execution_count": null,
   "id": "e2928ec8",
   "metadata": {},
   "outputs": [],
   "source": [
    "# Function to mask clouds using the Sentinel-2 QA band.\n",
    "def maskS2clouds(image):\n",
    "  qa = image.select('QA60')\n",
    "\n",
    "  # Bits 10 and 11 are clouds and cirrus, respectively.\n",
    "  cloudBitMask = ee.Number(2).pow(10).int()\n",
    "  cirrusBitMask = ee.Number(2).pow(11).int()\n",
    "\n",
    "  # Both flags should be set to zero, indicating clear conditions.\n",
    "  mask = qa.bitwiseAnd(cloudBitMask).eq(0).And(\n",
    "             qa.bitwiseAnd(cirrusBitMask).eq(0))\n",
    "\n",
    "  # Return the masked and scaled data.\n",
    "  return image.updateMask(mask).divide(10000)"
   ]
  },
  {
   "cell_type": "code",
   "execution_count": null,
   "id": "b727a025",
   "metadata": {},
   "outputs": [],
   "source": [
    "S2 = ee.ImageCollection(\"COPERNICUS/S2\") \\\n",
    "       .filterBounds(bf_boarder) \\\n",
    "       .filterDate(start_date, end_date) \\\n",
    "       .map(maskcloud1)"
   ]
  },
  {
   "cell_type": "code",
   "execution_count": null,
   "id": "33968204",
   "metadata": {},
   "outputs": [],
   "source": [
    "# Add EVI using an expression.\n",
    "def addEVI(image):\n",
    "    EVI = image.expression(\n",
    "      '2.5 * ((NIR - RED) / (NIR + 6 * RED - 7.5 * BLUE + 1))', {\n",
    "      'NIR' : image.select('B8'),\n",
    "      'RED' : image.select('B4'),\n",
    "      'BLUE': image.select('B2')}).rename('EVI')\n",
    "    return image.addBands(EVI)"
   ]
  },
  {
   "cell_type": "code",
   "execution_count": null,
   "id": "035a2d4d",
   "metadata": {},
   "outputs": [],
   "source": [
    "# Add EVI band to image collection\n",
    "S2 = S2.map(addEVI)"
   ]
  },
  {
   "cell_type": "code",
   "execution_count": null,
   "id": "aa5931ea",
   "metadata": {},
   "outputs": [],
   "source": [
    "EVI = ee.Image(S2.select('EVI').mean().clip(bf_boarder))\n",
    "EVI_palette = 'FFFFFF, CE7E45, DF923D, F1B555, FCD163, 99B718, 74A901, 66A000, 529400, 3E8601, 207401, 056201, 004C00, 023B01, 012E01, 011D01, 011301'\n",
    "EVIViz = {'min': 0, 'max': 0.4 ,'palette':EVI_palette}\n",
    "Map.addLayer(EVI, EVIViz, start_date + 'to' + end_date)"
   ]
  },
  {
   "cell_type": "markdown",
   "id": "9144b610",
   "metadata": {},
   "source": [
    "##### Exporting all bands as one single image"
   ]
  },
  {
   "cell_type": "code",
   "execution_count": null,
   "id": "1810c8c4",
   "metadata": {},
   "outputs": [],
   "source": [
    "out_dir = os.path.join(os.path.expanduser('~'), 'Downloads')\n",
    "filename = os.path.join(out_dir, start_date+'to'+end_date+'.tif')"
   ]
  },
  {
   "cell_type": "code",
   "execution_count": null,
   "id": "1af71242",
   "metadata": {},
   "outputs": [],
   "source": [
    "geemap.ee_export_image(EVI, filename=filename, scale=900, region=bf_boarder.geometry(), file_per_band=False)"
   ]
  },
  {
   "cell_type": "markdown",
   "id": "0a77ca37",
   "metadata": {},
   "source": [
    "##### Exporting each band as one image"
   ]
  },
  {
   "cell_type": "code",
   "execution_count": null,
   "id": "4cf05b9d",
   "metadata": {},
   "outputs": [],
   "source": [
    "geemap.ee_export_image(EVI, filename=filename, scale=900, region=bf_boarder.geometry(), file_per_band=True)"
   ]
  },
  {
   "cell_type": "markdown",
   "id": "b7dfa8b7",
   "metadata": {},
   "source": [
    "##### Exporting an image to Google Drive"
   ]
  },
  {
   "cell_type": "code",
   "execution_count": null,
   "id": "9998b6a7",
   "metadata": {},
   "outputs": [],
   "source": [
    "# geemap.ee_export_image_to_drive(EVI, description=start_date + 'to' + end_date, folder='export', region=bf_boarder, scale=30)"
   ]
  },
  {
   "cell_type": "markdown",
   "id": "94a86d56",
   "metadata": {},
   "source": [
    "##### Exporting maps as HTML"
   ]
  },
  {
   "cell_type": "code",
   "execution_count": null,
   "id": "30bd3ef3",
   "metadata": {},
   "outputs": [],
   "source": [
    "# Exporting maps as HTML\n",
    "download_dir = os.path.join(os.path.expanduser('~'), 'Downloads')\n",
    "if not os.path.exists(download_dir):\n",
    "    os.makedirs(download_dir)\n",
    "html_file = os.path.join(download_dir, 'Myhtml.html')\n",
    "download_dir = os.path.join(os.path.expanduser('~'), 'Downloads')"
   ]
  },
  {
   "cell_type": "code",
   "execution_count": null,
   "id": "f10a01a9",
   "metadata": {},
   "outputs": [],
   "source": [
    "Map.to_html(outfile=html_file, title= 'EVI', width='100%', height='880px')"
   ]
  },
  {
   "cell_type": "markdown",
   "id": "f3ad69c1",
   "metadata": {},
   "source": [
    "##### Exporting maps as PNG/JPG"
   ]
  },
  {
   "cell_type": "code",
   "execution_count": null,
   "id": "144c3b54",
   "metadata": {},
   "outputs": [],
   "source": [
    "png_file = os.path.join(download_dir, 'my_map.png')\n",
    "Map.to_image(outfile=png_file, monitor=1)"
   ]
  },
  {
   "cell_type": "code",
   "execution_count": null,
   "id": "b79da8e2",
   "metadata": {},
   "outputs": [],
   "source": [
    "jpg_file = os.path.join(download_dir, 'my_map.jpg')\n",
    "Map.to_image(outfile=jpg_file, monitor=1)"
   ]
  },
  {
   "cell_type": "markdown",
   "id": "2e05dbb0",
   "metadata": {},
   "source": [
    "### Proba-V"
   ]
  },
  {
   "cell_type": "code",
   "execution_count": null,
   "id": "2b768631",
   "metadata": {},
   "outputs": [],
   "source": [
    "import ee\n",
    "import geemap"
   ]
  },
  {
   "cell_type": "code",
   "execution_count": null,
   "id": "c0f60999",
   "metadata": {},
   "outputs": [],
   "source": [
    "# Create default map\n",
    "Map = geemap.Map(center=(12.2395,  -1.5584), zoom=10, lite_mode=False) \n",
    "Map.add_basemap('HYBRID')\n",
    "Map"
   ]
  },
  {
   "cell_type": "code",
   "execution_count": null,
   "id": "299658d6",
   "metadata": {},
   "outputs": [],
   "source": [
    "bf_boarder = ee.FeatureCollection('USDOS/LSIB_SIMPLE/2017')\\\n",
    "               .filter(ee.Filter.eq('country_na', 'Burkina Faso'))\n",
    "mask = bf_boarder.geometry()"
   ]
  },
  {
   "cell_type": "markdown",
   "id": "b619a37d",
   "metadata": {},
   "source": [
    "##### Proba-V NDVI"
   ]
  },
  {
   "cell_type": "code",
   "execution_count": null,
   "id": "e918302d",
   "metadata": {},
   "outputs": [],
   "source": [
    "image = ee.ImageCollection('VITO/PROBAV/C1/S1_TOC_100M') \\\n",
    "          .filterDate('2020-10-01', '2020-12-30') \\\n",
    "          .filterBounds(bf_boarder) \n",
    "ndvi = image.select('NDVI').median().clip(bf_boarder)\n",
    "ndvi_palette = 'FFFFFF, CE7E45, DF923D, F1B555, FCD163, 99B718, 74A901, 66A000, 529400, 3E8601, 207401, 056201, 004C00, 023B01, 012E01, 011D01, 011301'\n",
    "Map.addLayer(ndvi, {'min': 0, 'max': 170, 'palette': ndvi_palette}, 'Proba-V ndvi 2020');"
   ]
  },
  {
   "cell_type": "markdown",
   "id": "0b1a5b42",
   "metadata": {},
   "source": [
    "#### Proba-V NDVI APP"
   ]
  },
  {
   "cell_type": "code",
   "execution_count": null,
   "id": "4d68f608",
   "metadata": {},
   "outputs": [],
   "source": [
    "import os\n",
    "import ee\n",
    "import geemap\n",
    "import ipywidgets as widgets"
   ]
  },
  {
   "cell_type": "code",
   "execution_count": null,
   "id": "f79754b4",
   "metadata": {},
   "outputs": [],
   "source": [
    "style = {'description_width': 'initial'}\n",
    "title = widgets.Text(\n",
    "    description='Title:',\n",
    "    value='Landsat Timelapse',\n",
    "    width=200,\n",
    "    style=style\n",
    ")"
   ]
  },
  {
   "cell_type": "code",
   "execution_count": null,
   "id": "15b5581b",
   "metadata": {},
   "outputs": [],
   "source": [
    "start_year = widgets.IntSlider(description='Start Year:', value=2013, min=2013, max=2021, style=style)"
   ]
  },
  {
   "cell_type": "code",
   "execution_count": null,
   "id": "1f3adfd5",
   "metadata": {},
   "outputs": [],
   "source": [
    "end_year = widgets.IntSlider(description='End Year:', value=2021, min=2013, max=2021, style=style)"
   ]
  },
  {
   "cell_type": "code",
   "execution_count": null,
   "id": "d86c0d12",
   "metadata": {},
   "outputs": [],
   "source": [
    "start_month = widgets.Dropdown(\n",
    "    description='Start Month:',\n",
    "    options=['01', '02', '03', '04', '05', '06', '07', '08', '09', '10', '11', '12'],\n",
    "    value='04',\n",
    "    style=style\n",
    ")"
   ]
  },
  {
   "cell_type": "code",
   "execution_count": null,
   "id": "3bfbcb61",
   "metadata": {},
   "outputs": [],
   "source": [
    "end_month = widgets.Dropdown(\n",
    "    description='End Month:',\n",
    "    options=['01', '02', '03', '04', '05', '06', '07', '08', '09', '10', '11', '12'],\n",
    "    value='05',\n",
    "    style=style\n",
    ")"
   ]
  },
  {
   "cell_type": "code",
   "execution_count": null,
   "id": "3ea5f27a",
   "metadata": {},
   "outputs": [],
   "source": [
    "start_day = widgets.Dropdown(\n",
    "    description='Start Day:',\n",
    "    options=['01', '02', '03', '04', '05', '06', '07', '08', '09', '10',\n",
    "             '11', '12', '13', '14', '15', '16', '17', '18', '19', '20',\n",
    "             '21', '22', '23', '24', '25', '26', '27', '28', '29', '30', '31'],\n",
    "    value='11',\n",
    "    style=style\n",
    ")"
   ]
  },
  {
   "cell_type": "code",
   "execution_count": null,
   "id": "f3e8f26b",
   "metadata": {},
   "outputs": [],
   "source": [
    "end_day = widgets.Dropdown(\n",
    "    description='End Day:',\n",
    "    options=['01', '02', '03', '04', '05', '06', '07', '08', '09', '10',\n",
    "             '11', '12', '13', '14', '15', '16', '17', '18', '19', '20',\n",
    "             '21', '22', '23', '24', '25', '26', '27', '28', '29', '30', '31'],\n",
    "    value='18',\n",
    "    style=style\n",
    ")"
   ]
  },
  {
   "cell_type": "code",
   "execution_count": null,
   "id": "876ad313",
   "metadata": {},
   "outputs": [],
   "source": [
    "hbox_start = widgets.HBox([start_year, start_month, start_day])\n",
    "hbox_start"
   ]
  },
  {
   "cell_type": "code",
   "execution_count": null,
   "id": "1e547857",
   "metadata": {},
   "outputs": [],
   "source": [
    "hbox_end = widgets.HBox([end_year, end_month, end_day])\n",
    "hbox_end"
   ]
  },
  {
   "cell_type": "code",
   "execution_count": null,
   "id": "bb1439b4",
   "metadata": {},
   "outputs": [],
   "source": [
    "start_date = str(start_year.value) + '-' + str(start_month.value) + '-' + str(start_day.value)\n",
    "end_date = str(end_year.value) + '-' + str(end_month.value) + '-' + str(end_day.value)\n",
    "# print(start_date)\n",
    "# print(end_date)"
   ]
  },
  {
   "cell_type": "code",
   "execution_count": null,
   "id": "573e6bec",
   "metadata": {},
   "outputs": [],
   "source": [
    "ee.Initialize()\n",
    "# Create default map\n",
    "Map = geemap.Map(center=(12.2395,  -1.5584), zoom=10, lite_mode=False) \n",
    "Map.add_basemap('HYBRID')\n",
    "Map"
   ]
  },
  {
   "cell_type": "code",
   "execution_count": null,
   "id": "5a7c1bea",
   "metadata": {},
   "outputs": [],
   "source": [
    "image = ee.ImageCollection('VITO/PROBAV/C1/S1_TOC_100M') \\\n",
    "          .filterDate(start_date, end_date) \\\n",
    "          .filterBounds(bf_boarder) \\\n",
    "          .select('NDVI')"
   ]
  },
  {
   "cell_type": "code",
   "execution_count": null,
   "id": "6687417b",
   "metadata": {},
   "outputs": [],
   "source": [
    "NDVI = image.median().clip(bf_boarder)\n",
    "NDVI_palette = 'FFFFFF, CE7E45, DF923D, F1B555, FCD163, 99B718, 74A901, 66A000, 529400, 3E8601, 207401, 056201, 004C00, 023B01, 012E01, 011D01, 011301'\n",
    "Map.addLayer(NDVI, {'min': 0, 'max': 170, 'palette': NDVI_palette}, 'Proba-V NDVI');"
   ]
  },
  {
   "cell_type": "markdown",
   "id": "729fb80f",
   "metadata": {},
   "source": [
    "##### Exporting all bands as one single image"
   ]
  },
  {
   "cell_type": "code",
   "execution_count": null,
   "id": "c82f77de",
   "metadata": {},
   "outputs": [],
   "source": [
    "out_dir = os.path.join(os.path.expanduser('~'), 'Downloads')\n",
    "filename = os.path.join(out_dir, 'EVI' + start_date+'to'+end_date+'.tif')"
   ]
  },
  {
   "cell_type": "code",
   "execution_count": null,
   "id": "45266a2e",
   "metadata": {},
   "outputs": [],
   "source": [
    "geemap.ee_export_image(NDVI, filename=filename, scale=900, region=bf_boarder.geometry(), file_per_band=False)"
   ]
  },
  {
   "cell_type": "markdown",
   "id": "165c88fc",
   "metadata": {},
   "source": [
    "##### Exporting each band as one image"
   ]
  },
  {
   "cell_type": "code",
   "execution_count": null,
   "id": "dc8825be",
   "metadata": {},
   "outputs": [],
   "source": [
    "geemap.ee_export_image(NDVI, filename=filename, scale=900, region=bf_boarder.geometry(), file_per_band=True)"
   ]
  },
  {
   "cell_type": "markdown",
   "id": "13122a1c",
   "metadata": {},
   "source": [
    "##### Exporting an image to Google Drive"
   ]
  },
  {
   "cell_type": "code",
   "execution_count": null,
   "id": "a5f0d915",
   "metadata": {},
   "outputs": [],
   "source": [
    "# geemap.ee_export_image_to_drive(NDVI, description=start_date + 'to' + end_date, folder='export', region=bf_boarder, scale=30)"
   ]
  },
  {
   "cell_type": "markdown",
   "id": "59448e75",
   "metadata": {},
   "source": [
    "##### Exporting maps as HTML"
   ]
  },
  {
   "cell_type": "code",
   "execution_count": null,
   "id": "7535ab3d",
   "metadata": {},
   "outputs": [],
   "source": [
    "# Exporting maps as HTML\n",
    "download_dir = os.path.join(os.path.expanduser('~'), 'Downloads')\n",
    "if not os.path.exists(download_dir):\n",
    "    os.makedirs(download_dir)\n",
    "html_file = os.path.join(download_dir, 'Myhtml.html')\n",
    "download_dir = os.path.join(os.path.expanduser('~'), 'Downloads')"
   ]
  },
  {
   "cell_type": "code",
   "execution_count": null,
   "id": "c8e82b4b",
   "metadata": {},
   "outputs": [],
   "source": [
    "Map.to_html(outfile=html_file, title= 'NDVI', width='100%', height='880px')"
   ]
  },
  {
   "cell_type": "markdown",
   "id": "4b11d354",
   "metadata": {},
   "source": [
    "##### Exporting maps as PNG/JPG"
   ]
  },
  {
   "cell_type": "code",
   "execution_count": null,
   "id": "9a4d5876",
   "metadata": {},
   "outputs": [],
   "source": [
    "png_file = os.path.join(download_dir, 'my_map.png')\n",
    "Map.to_image(outfile=png_file, monitor=1)"
   ]
  },
  {
   "cell_type": "code",
   "execution_count": null,
   "id": "fc7281e6",
   "metadata": {},
   "outputs": [],
   "source": [
    "jpg_file = os.path.join(download_dir, 'my_map.jpg')\n",
    "Map.to_image(outfile=jpg_file, monitor=1)"
   ]
  },
  {
   "cell_type": "markdown",
   "id": "2631d841",
   "metadata": {},
   "source": [
    "##### Proba-V EVI"
   ]
  },
  {
   "cell_type": "code",
   "execution_count": null,
   "id": "26635b7a",
   "metadata": {},
   "outputs": [],
   "source": [
    "import ee\n",
    "import geemap"
   ]
  },
  {
   "cell_type": "code",
   "execution_count": null,
   "id": "4f36b7ee",
   "metadata": {},
   "outputs": [],
   "source": [
    "Map = geemap.Map(center=(12.2395,  -1.5584), zoom=6, lite_mode=False) \n",
    "Map.add_basemap('HYBRID')\n",
    "Map"
   ]
  },
  {
   "cell_type": "code",
   "execution_count": null,
   "id": "d736bbac",
   "metadata": {},
   "outputs": [],
   "source": [
    "bf_boarder = ee.FeatureCollection('USDOS/LSIB_SIMPLE/2017')\\\n",
    "               .filter(ee.Filter.eq('country_na', 'Burkina Faso'))"
   ]
  },
  {
   "cell_type": "code",
   "execution_count": null,
   "id": "2d1aa267",
   "metadata": {},
   "outputs": [],
   "source": [
    "image = ee.ImageCollection('VITO/PROBAV/C1/S1_TOC_100M') \\\n",
    "          .filterDate('2013-10-18', '2020-12-30') \\\n",
    "          .filterBounds(bf_boarder) "
   ]
  },
  {
   "cell_type": "code",
   "execution_count": null,
   "id": "f803c751",
   "metadata": {},
   "outputs": [],
   "source": [
    "# Add EVI using an expression.\n",
    "def addEVI(image):\n",
    "    EVI = image.expression(\n",
    "      '2.5 * ((NIR - RED) / (NIR + 6 * RED - 7.5 * BLUE + 1))', {\n",
    "      'NIR' : image.select('NIR'),\n",
    "      'RED' : image.select('RED'),\n",
    "      'BLUE': image.select('BLUE')}).rename('EVI')\n",
    "    return image.addBands(EVI)"
   ]
  },
  {
   "cell_type": "code",
   "execution_count": null,
   "id": "0cdd909a",
   "metadata": {},
   "outputs": [],
   "source": [
    "# Add EVI band to image collection\n",
    "image = image.map(addEVI)"
   ]
  },
  {
   "cell_type": "code",
   "execution_count": null,
   "id": "a40bd371",
   "metadata": {},
   "outputs": [],
   "source": [
    "# Extract EVI band and choose NDVI median image for a period\n",
    "EVI = image.select(['EVI'])\n",
    "evi_check = EVI.filterDate('2016-10-01', '2016-10-30').mean().clip(bf_boarder)"
   ]
  },
  {
   "cell_type": "code",
   "execution_count": null,
   "id": "b4f9cb8f",
   "metadata": {},
   "outputs": [],
   "source": [
    "evi_palette = 'FFFFFF, CE7E45, DF923D, F1B555, FCD163, 99B718, 74A901, 66A000, 529400, 3E8601, 207401, 056201, 004C00, 023B01, 012E01, 011D01, 011301'\n",
    "Map.addLayer(evi_check, {'min': -5, 'max': 1, 'palette': evi_palette}, 'Proba-V evi 2020');"
   ]
  },
  {
   "cell_type": "markdown",
   "id": "c3b8809f",
   "metadata": {},
   "source": [
    "#### Proba-V EVI APP"
   ]
  },
  {
   "cell_type": "code",
   "execution_count": null,
   "id": "86bd7043",
   "metadata": {},
   "outputs": [],
   "source": [
    "import os\n",
    "import ee\n",
    "import geemap\n",
    "import ipywidgets as widgets"
   ]
  },
  {
   "cell_type": "code",
   "execution_count": null,
   "id": "6ed7c33d",
   "metadata": {},
   "outputs": [],
   "source": [
    "style = {'description_width': 'initial'}\n",
    "title = widgets.Text(\n",
    "    description='Title:',\n",
    "    value='Landsat Timelapse',\n",
    "    width=200,\n",
    "    style=style\n",
    ")"
   ]
  },
  {
   "cell_type": "code",
   "execution_count": null,
   "id": "de6b8718",
   "metadata": {},
   "outputs": [],
   "source": [
    "start_year = widgets.IntSlider(description='Start Year:', value=2013, min=2013, max=2021, style=style)"
   ]
  },
  {
   "cell_type": "code",
   "execution_count": null,
   "id": "847f21ee",
   "metadata": {},
   "outputs": [],
   "source": [
    "end_year = widgets.IntSlider(description='End Year:', value=2021, min=2013, max=2021, style=style)"
   ]
  },
  {
   "cell_type": "code",
   "execution_count": null,
   "id": "c27a742d",
   "metadata": {},
   "outputs": [],
   "source": [
    "start_month = widgets.Dropdown(\n",
    "    description='Start Month:',\n",
    "    options=['01', '02', '03', '04', '05', '06', '07', '08', '09', '10', '11', '12'],\n",
    "    value='04',\n",
    "    style=style\n",
    ")"
   ]
  },
  {
   "cell_type": "code",
   "execution_count": null,
   "id": "251956ae",
   "metadata": {},
   "outputs": [],
   "source": [
    "end_month = widgets.Dropdown(\n",
    "    description='End Month:',\n",
    "    options=['01', '02', '03', '04', '05', '06', '07', '08', '09', '10', '11', '12'],\n",
    "    value='05',\n",
    "    style=style\n",
    ")"
   ]
  },
  {
   "cell_type": "code",
   "execution_count": null,
   "id": "77778d76",
   "metadata": {},
   "outputs": [],
   "source": [
    "start_day = widgets.Dropdown(\n",
    "    description='Start Day:',\n",
    "    options=['01', '02', '03', '04', '05', '06', '07', '08', '09', '10',\n",
    "             '11', '12', '13', '14', '15', '16', '17', '18', '19', '20',\n",
    "             '21', '22', '23', '24', '25', '26', '27', '28', '29', '30', '31'],\n",
    "    value='11',\n",
    "    style=style\n",
    ")"
   ]
  },
  {
   "cell_type": "code",
   "execution_count": null,
   "id": "7a8e1610",
   "metadata": {},
   "outputs": [],
   "source": [
    "end_day = widgets.Dropdown(\n",
    "    description='End Day:',\n",
    "    options=['01', '02', '03', '04', '05', '06', '07', '08', '09', '10',\n",
    "             '11', '12', '13', '14', '15', '16', '17', '18', '19', '20',\n",
    "             '21', '22', '23', '24', '25', '26', '27', '28', '29', '30', '31'],\n",
    "    value='18',\n",
    "    style=style\n",
    ")"
   ]
  },
  {
   "cell_type": "code",
   "execution_count": null,
   "id": "15dbb58f",
   "metadata": {},
   "outputs": [],
   "source": [
    "hbox_start = widgets.HBox([start_year, start_month, start_day])\n",
    "hbox_start"
   ]
  },
  {
   "cell_type": "code",
   "execution_count": null,
   "id": "dbd51b1d",
   "metadata": {},
   "outputs": [],
   "source": [
    "hbox_end = widgets.HBox([end_year, end_month, end_day])\n",
    "hbox_end"
   ]
  },
  {
   "cell_type": "code",
   "execution_count": null,
   "id": "1eab2afe",
   "metadata": {},
   "outputs": [],
   "source": [
    "start_date = str(start_year.value) + '-' + str(start_month.value) + '-' + str(start_day.value)\n",
    "end_date = str(end_year.value) + '-' + str(end_month.value) + '-' + str(end_day.value)\n",
    "# print(start_date)\n",
    "# print(end_date)"
   ]
  },
  {
   "cell_type": "code",
   "execution_count": null,
   "id": "64c30bba",
   "metadata": {},
   "outputs": [],
   "source": [
    "ee.Initialize()\n",
    "# Create default map\n",
    "Map = geemap.Map(center=(12.2395,  -1.5584), zoom=10, lite_mode=False) \n",
    "Map.add_basemap('HYBRID')\n",
    "Map"
   ]
  },
  {
   "cell_type": "code",
   "execution_count": null,
   "id": "42deba3c",
   "metadata": {},
   "outputs": [],
   "source": [
    "bf_boarder = ee.FeatureCollection('USDOS/LSIB_SIMPLE/2017')\\\n",
    "               .filter(ee.Filter.eq('country_na', 'Burkina Faso'))\n",
    "mask = bf_boarder.geometry()"
   ]
  },
  {
   "cell_type": "code",
   "execution_count": null,
   "id": "f45bb2c8",
   "metadata": {},
   "outputs": [],
   "source": [
    "image = ee.ImageCollection('VITO/PROBAV/C1/S1_TOC_100M') \\\n",
    "          .filterDate(start_date, end_date) \\\n",
    "          .filterBounds(bf_boarder) "
   ]
  },
  {
   "cell_type": "code",
   "execution_count": null,
   "id": "26621c1e",
   "metadata": {},
   "outputs": [],
   "source": [
    "# Add EVI using an expression.\n",
    "def addEVI(image):\n",
    "    EVI = image.expression(\n",
    "      '2.5 * ((NIR - RED) / (NIR + 6 * RED - 7.5 * BLUE + 1))', {\n",
    "      'NIR' : image.select('NIR'),\n",
    "      'RED' : image.select('RED'),\n",
    "      'BLUE': image.select('BLUE')}).rename('EVI')\n",
    "    return image.addBands(EVI)"
   ]
  },
  {
   "cell_type": "code",
   "execution_count": null,
   "id": "c99f0366",
   "metadata": {},
   "outputs": [],
   "source": [
    "# Add EVI band to image collection\n",
    "image = image.map(addEVI)"
   ]
  },
  {
   "cell_type": "code",
   "execution_count": null,
   "id": "c5bdc72a",
   "metadata": {},
   "outputs": [],
   "source": [
    "EVI = image.select('EVI').mean().clip(bf_boarder)\n",
    "EVI_palette = 'FFFFFF, CE7E45, DF923D, F1B555, FCD163, 99B718, 74A901, 66A000, 529400, 3E8601, 207401, 056201, 004C00, 023B01, 012E01, 011D01, 011301'\n",
    "EVIViz = {'min': -1, 'max': 1.5 ,'palette':EVI_palette}\n",
    "Map.addLayer(EVI, EVIViz, start_date + 'to' + end_date)"
   ]
  },
  {
   "cell_type": "markdown",
   "id": "fca439b3",
   "metadata": {},
   "source": [
    "##### Exporting all bands as one single image"
   ]
  },
  {
   "cell_type": "code",
   "execution_count": null,
   "id": "5597336e",
   "metadata": {},
   "outputs": [],
   "source": [
    "out_dir = os.path.join(os.path.expanduser('~'), 'Downloads')\n",
    "filename = os.path.join(out_dir, 'EVI' + start_date+'to'+end_date+'.tif')"
   ]
  },
  {
   "cell_type": "code",
   "execution_count": null,
   "id": "0141dbeb",
   "metadata": {},
   "outputs": [],
   "source": [
    "geemap.ee_export_image(EVI, filename=filename, scale=900, region=bf_boarder.geometry(), file_per_band=False)"
   ]
  },
  {
   "cell_type": "markdown",
   "id": "cd4a401a",
   "metadata": {},
   "source": [
    "##### Exporting each band as one image"
   ]
  },
  {
   "cell_type": "code",
   "execution_count": null,
   "id": "03d2a86e",
   "metadata": {},
   "outputs": [],
   "source": [
    "geemap.ee_export_image(EVI, filename=filename, scale=900, region=bf_boarder.geometry(), file_per_band=True)"
   ]
  },
  {
   "cell_type": "markdown",
   "id": "1e6ff2eb",
   "metadata": {},
   "source": [
    "##### Exporting an image to Google Drive"
   ]
  },
  {
   "cell_type": "code",
   "execution_count": null,
   "id": "9357153d",
   "metadata": {},
   "outputs": [],
   "source": [
    "# geemap.ee_export_image_to_drive(NDVI, description=start_date + 'to' + end_date, folder='export', region=bf_boarder, scale=30)"
   ]
  },
  {
   "cell_type": "markdown",
   "id": "a518cf9e",
   "metadata": {},
   "source": [
    "##### Exporting maps as HTML"
   ]
  },
  {
   "cell_type": "code",
   "execution_count": null,
   "id": "7fe1c761",
   "metadata": {},
   "outputs": [],
   "source": [
    "# Exporting maps as HTML\n",
    "download_dir = os.path.join(os.path.expanduser('~'), 'Downloads')\n",
    "if not os.path.exists(download_dir):\n",
    "    os.makedirs(download_dir)\n",
    "html_file = os.path.join(download_dir, 'Myhtml.html')\n",
    "download_dir = os.path.join(os.path.expanduser('~'), 'Downloads')"
   ]
  },
  {
   "cell_type": "code",
   "execution_count": null,
   "id": "135d7d2d",
   "metadata": {},
   "outputs": [],
   "source": [
    "Map.to_html(outfile=html_file, title= 'EVI', width='100%', height='880px')"
   ]
  },
  {
   "cell_type": "markdown",
   "id": "fce679a0",
   "metadata": {},
   "source": [
    "##### Exporting maps as PNG/JPG"
   ]
  },
  {
   "cell_type": "code",
   "execution_count": null,
   "id": "096e0f6d",
   "metadata": {},
   "outputs": [],
   "source": [
    "png_file = os.path.join(download_dir, 'my_map.png')\n",
    "Map.to_image(outfile=png_file, monitor=1)"
   ]
  },
  {
   "cell_type": "code",
   "execution_count": null,
   "id": "8d4ffe96",
   "metadata": {},
   "outputs": [],
   "source": [
    "jpg_file = os.path.join(download_dir, 'my_map.jpg')\n",
    "Map.to_image(outfile=jpg_file, monitor=1)"
   ]
  },
  {
   "cell_type": "markdown",
   "id": "11d1d9eb",
   "metadata": {},
   "source": [
    "## Visualizing time series"
   ]
  },
  {
   "cell_type": "markdown",
   "id": "07c16478",
   "metadata": {},
   "source": [
    "### Visualizing weather data"
   ]
  },
  {
   "cell_type": "code",
   "execution_count": null,
   "id": "8acd4f82",
   "metadata": {},
   "outputs": [],
   "source": [
    "import ee\n",
    "import geemap\n",
    "from geemap import *"
   ]
  },
  {
   "cell_type": "code",
   "execution_count": null,
   "id": "c8992fec",
   "metadata": {},
   "outputs": [],
   "source": [
    "Map = geemap.Map(center=(12.2395,  -1.5584), zoom=6, lite_mode=False) \n",
    "Map.add_basemap('HYBRID')\n",
    "Map"
   ]
  },
  {
   "cell_type": "code",
   "execution_count": null,
   "id": "1d1bb511",
   "metadata": {},
   "outputs": [],
   "source": [
    "Africa_boarder = ee.FeatureCollection('USDOS/LSIB_SIMPLE/2017')\\\n",
    "               .filter(ee.Filter.eq('wld_rgn', 'Africa'))\n",
    "\n",
    "bf_boarder = ee.FeatureCollection('USDOS/LSIB_SIMPLE/2017')\\\n",
    "               .filter(ee.Filter.eq('country_na', 'Burkina Faso'))\n",
    "mask = bf_boarder.geometry()"
   ]
  },
  {
   "cell_type": "code",
   "execution_count": null,
   "id": "9d8237bf",
   "metadata": {},
   "outputs": [],
   "source": [
    "collection = ee.ImageCollection('NOAA/GFS0P25') \\\n",
    "  .filterDate('2020-11-22', '2020-11-23') \\\n",
    "  .limit(24) \\\n",
    "  .select('temperature_2m_above_ground') \\\n",
    "  .filterBounds(bf_boarder) \n",
    "\n",
    "\n",
    "vis_params = {\n",
    "  'min': -40.0,\n",
    "  'max': 35.0,\n",
    "  'palette': ['blue', 'purple', 'cyan', 'green', 'yellow', 'red']\n",
    "}\n",
    "\n",
    "first_image = collection.first().clip(bf_boarder)\n",
    "\n",
    "Map.addLayer(first_image, vis_params, \"First image\")"
   ]
  },
  {
   "cell_type": "code",
   "execution_count": null,
   "id": "2c3bb922",
   "metadata": {},
   "outputs": [],
   "source": [
    "image = collection.toBands()\n",
    "image = image.clipToCollection(bf_boarder)\n",
    "\n",
    "Map.addLayer(image, {}, \"Time series\", False)"
   ]
  },
  {
   "cell_type": "code",
   "execution_count": null,
   "id": "a822c718",
   "metadata": {},
   "outputs": [],
   "source": [
    "labels = [str(n).zfill(2) + \":00\" for n in range(0, 24)]"
   ]
  },
  {
   "cell_type": "code",
   "execution_count": null,
   "id": "2368aabe",
   "metadata": {},
   "outputs": [],
   "source": [
    "Map.add_time_slider(collection, vis_params, region=bf_boarder, labels=labels, time_interval=1)"
   ]
  },
  {
   "cell_type": "code",
   "execution_count": null,
   "id": "d3b4eb5b",
   "metadata": {},
   "outputs": [],
   "source": [
    "# Add colorbar\n",
    "width = 250\n",
    "height = 30\n",
    "palette = ['blue', 'purple', 'cyan', 'green', 'yellow', 'red']\n",
    "labels = [-40, 35]\n",
    "colorbar = create_colorbar(width=width, height=height, palette=palette, vertical=False,\n",
    "                    add_labels=True, font_size=14, labels=labels)\n",
    "show_image(colorbar)"
   ]
  },
  {
   "cell_type": "markdown",
   "id": "212f5342",
   "metadata": {},
   "source": [
    "### Visualizing vegetation data"
   ]
  },
  {
   "cell_type": "code",
   "execution_count": null,
   "id": "51ec9e15",
   "metadata": {},
   "outputs": [],
   "source": [
    "import ee\n",
    "import geemap"
   ]
  },
  {
   "cell_type": "code",
   "execution_count": null,
   "id": "279392a2",
   "metadata": {},
   "outputs": [],
   "source": [
    "Map = geemap.Map(center=(12.2395,  -1.5584), zoom=6, lite_mode=False) \n",
    "Map.add_basemap('HYBRID')\n",
    "Map"
   ]
  },
  {
   "cell_type": "code",
   "execution_count": null,
   "id": "b584865b",
   "metadata": {},
   "outputs": [],
   "source": [
    "bf_boarder = ee.FeatureCollection('USDOS/LSIB_SIMPLE/2017')\\\n",
    "               .filter(ee.Filter.eq('country_na', 'Burkina Faso'))"
   ]
  },
  {
   "cell_type": "code",
   "execution_count": null,
   "id": "1a163ce7",
   "metadata": {},
   "outputs": [],
   "source": [
    "collection = ee.ImageCollection('MODIS/MCD43A4_006_NDVI') \\\n",
    "                  .filter(ee.Filter.date('2019-10-01', '2020-11-01')) \\\n",
    "                  .select(\"NDVI\")\\\n",
    "                  .filterBounds(bf_boarder)\n",
    "\n",
    "vis_params = {\n",
    "  'min': 0.0,\n",
    "  'max': 1.0,\n",
    "  'palette': [\n",
    "    'FFFFFF', 'CE7E45', 'DF923D', 'F1B555', 'FCD163', '99B718', '74A901',\n",
    "    '66A000', '529400', '3E8601', '207401', '056201', '004C00', '023B01',\n",
    "    '012E01', '011D01', '011301'\n",
    "  ],\n",
    "}\n",
    "\n",
    "first_image = collection.first().clip(bf_boarder)\n",
    "\n",
    "Map.addLayer(first_image, vis_params, \"First image\")"
   ]
  },
  {
   "cell_type": "code",
   "execution_count": null,
   "id": "9c78121c",
   "metadata": {},
   "outputs": [],
   "source": [
    "image = collection.toBands()\n",
    "image = image.clipToCollection(bf_boarder)\n",
    "Map.addLayer(image, {}, \"Time series\", False)"
   ]
  },
  {
   "cell_type": "code",
   "execution_count": null,
   "id": "50df41ee",
   "metadata": {},
   "outputs": [],
   "source": [
    "labels = collection.aggregate_array(\"system:index\").getInfo()\n",
    "Map.add_time_slider(collection, vis_params, region=bf_boarder, labels=labels, time_interval=5)"
   ]
  },
  {
   "cell_type": "markdown",
   "id": "55eaa3b6",
   "metadata": {},
   "source": [
    "### Optical data timeseries\n",
    "\n",
    "Source code for landsat and sentinel-2 timeseries:\n",
    "https://github.com/giswqs/geemap/blob/master/geemap/common.py"
   ]
  },
  {
   "cell_type": "markdown",
   "id": "fdfa7d56",
   "metadata": {},
   "source": [
    "#### Landsat timeseries"
   ]
  },
  {
   "cell_type": "code",
   "execution_count": null,
   "id": "1896b5c8",
   "metadata": {},
   "outputs": [],
   "source": [
    "import ee\n",
    "import geemap"
   ]
  },
  {
   "cell_type": "code",
   "execution_count": null,
   "id": "cd2f399f",
   "metadata": {},
   "outputs": [],
   "source": [
    "bf_boarder = ee.FeatureCollection('USDOS/LSIB_SIMPLE/2017')\\\n",
    "               .filter(ee.Filter.eq('country_na', 'Burkina Faso'))"
   ]
  },
  {
   "cell_type": "code",
   "execution_count": null,
   "id": "c22b50bf",
   "metadata": {},
   "outputs": [],
   "source": [
    "landsat_ts = geemap.landsat_timeseries(roi=bf_boarder, start_year=1984, end_year=2019, start_date='10-01', end_date='12-31')"
   ]
  },
  {
   "cell_type": "code",
   "execution_count": null,
   "id": "2cc947c9",
   "metadata": {},
   "outputs": [],
   "source": [
    "layer_names = ['Landsat ' + str(year) for year in range(1984, 2020)]\n",
    "print(layer_names)"
   ]
  },
  {
   "cell_type": "code",
   "execution_count": null,
   "id": "93430409",
   "metadata": {},
   "outputs": [],
   "source": [
    "landsat_vis = {\n",
    "    'min': 0,\n",
    "    'max': 4000,\n",
    "    'gamma': [1, 1, 1],\n",
    "    'bands': ['NIR', 'Red', 'Green']}"
   ]
  },
  {
   "cell_type": "code",
   "execution_count": null,
   "id": "001e3031",
   "metadata": {},
   "outputs": [],
   "source": [
    "Map = geemap.Map()\n",
    "Map.ts_inspector(left_ts=landsat_ts, right_ts=landsat_ts, left_names=layer_names, right_names=layer_names, left_vis=landsat_vis, right_vis=landsat_vis)\n",
    "Map.centerObject(bf_boarder, zoom=8)\n",
    "Map"
   ]
  },
  {
   "cell_type": "markdown",
   "id": "5910fb88",
   "metadata": {},
   "source": [
    "#### Creating Landsat timelapse animation"
   ]
  },
  {
   "cell_type": "code",
   "execution_count": null,
   "id": "ae436c67",
   "metadata": {},
   "outputs": [],
   "source": [
    "import os\n",
    "import ee\n",
    "import geemap"
   ]
  },
  {
   "cell_type": "code",
   "execution_count": null,
   "id": "90709165",
   "metadata": {},
   "outputs": [],
   "source": [
    "Map = geemap.Map(center=(12.2395,  -1.5584), zoom=10, lite_mode=False) \n",
    "Map.add_basemap('HYBRID')\n",
    "Map"
   ]
  },
  {
   "cell_type": "code",
   "execution_count": null,
   "id": "192bbe4a",
   "metadata": {},
   "outputs": [],
   "source": [
    "bf_boarder = ee.FeatureCollection('USDOS/LSIB_SIMPLE/2017')\\\n",
    "               .filter(ee.Filter.eq('country_na', 'Burkina Faso'))"
   ]
  },
  {
   "cell_type": "code",
   "execution_count": null,
   "id": "cea030e5",
   "metadata": {},
   "outputs": [],
   "source": [
    "collection = geemap.landsat_timeseries(roi=bf_boarder, start_year=1985, end_year=2020, start_date='06-10', end_date='09-20')"
   ]
  },
  {
   "cell_type": "markdown",
   "id": "6ae41fe8",
   "metadata": {},
   "source": [
    "##### Save as GIF"
   ]
  },
  {
   "cell_type": "code",
   "execution_count": null,
   "id": "c214f86a",
   "metadata": {},
   "outputs": [],
   "source": [
    "# Define arguments for animation function parameters.\n",
    "video_args = {\n",
    "  'dimensions': 768,\n",
    "  'region': bf_boarder,\n",
    "  'framesPerSecond': 2,\n",
    "  'bands': ['NIR', 'Red', 'Green'],\n",
    "  'min': 0,\n",
    "  'max': 4000,\n",
    "  'gamma': [1, 1, 1]\n",
    "}"
   ]
  },
  {
   "cell_type": "code",
   "execution_count": null,
   "id": "526c3fc6",
   "metadata": {},
   "outputs": [],
   "source": [
    "work_dir = os.path.join(os.path.expanduser(\"~\"), 'Downloads')\n",
    "if not os.path.exists(work_dir):\n",
    "    os.makedirs(work_dir)\n",
    "out_gif = os.path.join(work_dir, \"landsat_ts.gif\")"
   ]
  },
  {
   "cell_type": "code",
   "execution_count": null,
   "id": "22cdeeaf",
   "metadata": {},
   "outputs": [],
   "source": [
    "geemap.download_ee_video(collection, video_args, out_gif)"
   ]
  },
  {
   "cell_type": "markdown",
   "id": "3a1322cb",
   "metadata": {},
   "source": [
    "##### Add animated text to GIF"
   ]
  },
  {
   "cell_type": "code",
   "execution_count": null,
   "id": "1a1d94ab",
   "metadata": {},
   "outputs": [],
   "source": [
    "geemap.show_image(out_gif)"
   ]
  },
  {
   "cell_type": "code",
   "execution_count": null,
   "id": "70702344",
   "metadata": {},
   "outputs": [],
   "source": [
    "texted_gif = os.path.join(work_dir, \"landsat_ts_text.gif\")\n",
    "geemap.add_text_to_gif(out_gif, texted_gif, xy=('3%', '5%'), text_sequence=1985, font_size=30, font_color='#ffffff', add_progress_bar=False, duration=1000)"
   ]
  },
  {
   "cell_type": "code",
   "execution_count": null,
   "id": "9450e939",
   "metadata": {},
   "outputs": [],
   "source": [
    "label = 'Burkina Faso landsat'\n",
    "geemap.add_text_to_gif(texted_gif, texted_gif, xy=('2%', '88%'), text_sequence=label, font_size=30, font_color='#ffffff', progress_bar_color='cyan', duration=1000)"
   ]
  },
  {
   "cell_type": "code",
   "execution_count": null,
   "id": "510b7dcf",
   "metadata": {},
   "outputs": [],
   "source": [
    "geemap.show_image(texted_gif)"
   ]
  },
  {
   "cell_type": "code",
   "execution_count": null,
   "id": "4392a90c",
   "metadata": {},
   "outputs": [],
   "source": [
    "geemap.download_ee_video(collection, video_args, texted_gif)"
   ]
  },
  {
   "cell_type": "markdown",
   "id": "f3cc0112",
   "metadata": {},
   "source": [
    "#### Sentinel-2 timeseries"
   ]
  },
  {
   "cell_type": "code",
   "execution_count": null,
   "id": "4834b0b7",
   "metadata": {},
   "outputs": [],
   "source": [
    "import os\n",
    "import ee\n",
    "import geemap"
   ]
  },
  {
   "cell_type": "code",
   "execution_count": null,
   "id": "c3bb3d47",
   "metadata": {
    "scrolled": true
   },
   "outputs": [],
   "source": [
    "Map = geemap.Map(center=(12.2395,  -1.5584), zoom=10, lite_mode=False) \n",
    "Map.add_basemap('HYBRID')\n",
    "Map"
   ]
  },
  {
   "cell_type": "code",
   "execution_count": null,
   "id": "95482a27",
   "metadata": {},
   "outputs": [],
   "source": [
    "roi = ee.Geometry.Polygon(\n",
    "        [[[-3.090598913590661, 11.131225424381887],\n",
    "        [-3.0308607544109734,11.131225424381887],\n",
    "        [-3.0308607544109734,11.170804254529743],\n",
    "        [-3.090598913590661,11.170804254529743],\n",
    "        [-3.090598913590661,11.131225424381887]]], None, False)"
   ]
  },
  {
   "cell_type": "code",
   "execution_count": null,
   "id": "6dd093b8",
   "metadata": {},
   "outputs": [],
   "source": [
    "bf_boarder = ee.FeatureCollection('USDOS/LSIB_SIMPLE/2017')\\\n",
    "               .filter(ee.Filter.eq('country_na', 'Burkina Faso'))"
   ]
  },
  {
   "cell_type": "code",
   "execution_count": null,
   "id": "82a98fcb",
   "metadata": {},
   "outputs": [],
   "source": [
    "# information on cloud\n",
    "def maskcloud1(image):\n",
    "   QA60 = image.select(['QA60'])\n",
    "   return image.updateMask(QA60.lt(20))"
   ]
  },
  {
   "cell_type": "code",
   "execution_count": null,
   "id": "91c4bc5d",
   "metadata": {},
   "outputs": [],
   "source": [
    "#*\n",
    " # Function to mask clouds using the Sentinel-2 QA band\n",
    " # @param {ee.Image} image Sentinel-2 image\n",
    " # @return {ee.Image} cloud masked Sentinel-2 image\n",
    " #\n",
    "def maskS2clouds(image):\n",
    "  qa = image.select('QA60')\n",
    "\n",
    "  # Bits 10 and 11 are clouds and cirrus, respectively.\n",
    "  cloudBitMask = 1 << 10\n",
    "  cirrusBitMask = 1 << 11\n",
    "\n",
    "  # Both flags should be set to zero, indicating clear conditions.\n",
    "  mask = qa.bitwiseAnd(cloudBitMask).eq(0) \\\n",
    "      .And(qa.bitwiseAnd(cirrusBitMask).eq(0))\n",
    "\n",
    "  return image.updateMask(mask).divide(10000)\n",
    "\n",
    "# Map the function over one year of data and take the median.\n",
    "# Load Sentinel-2 TOA reflectance data.\n",
    "# dataset = ee.ImageCollection('COPERNICUS/S2') \\\n",
    "#                   .filterDate('2015-06-23', '2021-05-23') \\\n",
    "#                   .filter(ee.Filter.lt('CLOUDY_PIXEL_PERCENTAGE', 20)) \\\n",
    "#                   .filterBounds(bf_boarder) \\\n",
    "#                   .map(maskS2clouds)\n"
   ]
  },
  {
   "cell_type": "code",
   "execution_count": null,
   "id": "c99951ee",
   "metadata": {},
   "outputs": [],
   "source": [
    "# dataset = ee.ImageCollection('COPERNICUS/S2') \\\n",
    "#                   .filterDate('2015-06-23', '2021-05-23') \\\n",
    "#                   .filterBounds(bf_boarder) \\\n",
    "#                   .map(maskcloud1)\n",
    "\n",
    "# rgbVis = {\n",
    "#   'min': 0,\n",
    "#   'max': 3000,\n",
    "#   'bands': ['B8', 'B4', 'B3'],\n",
    "# }\n",
    "\n",
    "# Map.addLayer(dataset.median().clip(bf_boarder), rgbVis, 'RGB')"
   ]
  },
  {
   "cell_type": "code",
   "execution_count": null,
   "id": "5ac992b6",
   "metadata": {},
   "outputs": [],
   "source": [
    "dataset = ee.ImageCollection('COPERNICUS/S2') \\\n",
    "                  .filterDate('2015-06-23', '2021-05-23') \\\n",
    "                  .filterBounds(roi) \\\n",
    "                  .map(maskcloud1)"
   ]
  },
  {
   "cell_type": "code",
   "execution_count": null,
   "id": "9d4b4155",
   "metadata": {},
   "outputs": [],
   "source": [
    "# dataset.getInfo()"
   ]
  },
  {
   "cell_type": "code",
   "execution_count": null,
   "id": "7586c9c8",
   "metadata": {},
   "outputs": [],
   "source": [
    "# Add observation year as a preperty to each image\n",
    "def addYear(img):\n",
    "    return img.set('year', ee.Image(img).date().get('year'))"
   ]
  },
  {
   "cell_type": "code",
   "execution_count": null,
   "id": "f576cb62",
   "metadata": {},
   "outputs": [],
   "source": [
    "dataset = dataset.map(addYear)"
   ]
  },
  {
   "cell_type": "code",
   "execution_count": null,
   "id": "da10e4ef",
   "metadata": {},
   "outputs": [],
   "source": [
    "# Make a distinct year collection; one image representative per year.\n",
    "years = ee.List(dataset.aggregate_array('year')).distinct().sort()\n",
    "years.getInfo()"
   ]
  },
  {
   "cell_type": "code",
   "execution_count": null,
   "id": "fccde2ab",
   "metadata": {},
   "outputs": [],
   "source": [
    "# Map over the list of years to build a list of annual image composites.\n",
    "\n",
    "def func_bkr(year):\n",
    "  return dataset \\\n",
    "    .filterMetadata('year', 'equals', year) \\\n",
    "    .reduce(ee.Reducer.median()) \\\n",
    "    .set('year', year)\n",
    "\n",
    "s2CompList = years.map(func_bkr)\n",
    "\n",
    "# Convert the image List to an ImageCollection.\n",
    "s2CompCol = ee.ImageCollection.fromImages(s2CompList)"
   ]
  },
  {
   "cell_type": "code",
   "execution_count": null,
   "id": "30f8e39f",
   "metadata": {},
   "outputs": [],
   "source": [
    "# s2CompCol.getInfo()"
   ]
  },
  {
   "cell_type": "code",
   "execution_count": null,
   "id": "72c1f6a5",
   "metadata": {},
   "outputs": [],
   "source": [
    "# gifParams = {\n",
    "#   'bands': ['B8_median', 'B4_median', 'B3_median'],\n",
    "#   'min': 0,\n",
    "#   'max': 3000,\n",
    "# }\n",
    "# Map.addLayer(s2CompCol.clip(bf_boarder),gifParams,'2015')"
   ]
  },
  {
   "cell_type": "code",
   "execution_count": null,
   "id": "af1cee54",
   "metadata": {},
   "outputs": [],
   "source": [
    "# # Make a day-of-year sequence from 1 to 365 with a 30-day step.\n",
    "# doyList = ee.List.sequence(1, 365, 30)"
   ]
  },
  {
   "cell_type": "code",
   "execution_count": null,
   "id": "21d4f19f",
   "metadata": {},
   "outputs": [],
   "source": [
    "# # Map over the list of days to build a list of image composites.\n",
    "\n",
    "# def func_yll(startDoy):\n",
    "#   # Ensure that startDoy is a number.\n",
    "#   startDoy = ee.Number(startDoy)\n",
    "\n",
    "#   # Filter images by date range; starting with the current startDate and\n",
    "#   # ending 15 days later. Reduce the resulting image collection by median.\n",
    "#   return s2Col \\\n",
    "#     .filter(ee.Filter.calendarRange(startDoy, startDoy.add(29), 'day_of_year')) \\\n",
    "#     .reduce(ee.Reducer.median())\n",
    "\n",
    "# s2CompList = doyList.map(func_yll)\n",
    "\n",
    "# # Convert the image List to an ImageCollection.\n",
    "# s2CompCol = ee.ImageCollection.fromImages(s2CompList)"
   ]
  },
  {
   "cell_type": "code",
   "execution_count": null,
   "id": "69efc129",
   "metadata": {},
   "outputs": [],
   "source": [
    "# # Define GIF visualization parameters.\n",
    "# gifParams = {\n",
    "#   'region': bf_boarder.geometry(),\n",
    "#   'dimensions': 600,\n",
    "#   'framesPerSecond': 2,\n",
    "#   'bands': ['B8_median', 'B4_median', 'B3_median'],\n",
    "#   'min': 0,\n",
    "#   'max': 3000\n",
    "# }\n",
    "\n",
    "# # Print the GIF URL to the console.\n",
    "# print(s2CompCol.getVideoThumbURL(gifParams))"
   ]
  },
  {
   "cell_type": "code",
   "execution_count": null,
   "id": "1f8581bc",
   "metadata": {},
   "outputs": [],
   "source": [
    "# Define GIF visualization parameters.\n",
    "gifParams = {\n",
    "  'region': roi,\n",
    "  'dimensions': 600,\n",
    "  'framesPerSecond': 2,\n",
    "  'bands': ['B8_median', 'B4_median', 'B3_median'],\n",
    "  'min': 0,\n",
    "  'max': 3000\n",
    "}\n",
    "\n",
    "# Print the GIF URL to the console.\n",
    "print(s2CompCol.getVideoThumbURL(gifParams))"
   ]
  },
  {
   "cell_type": "markdown",
   "id": "68e640cd",
   "metadata": {},
   "source": [
    "##### Save as GIF"
   ]
  },
  {
   "cell_type": "code",
   "execution_count": null,
   "id": "cfb26f63",
   "metadata": {},
   "outputs": [],
   "source": [
    "work_dir = os.path.join(os.path.expanduser(\"~\"), 'Downloads')\n",
    "if not os.path.exists(work_dir):\n",
    "    os.makedirs(work_dir)\n",
    "out_gif = os.path.join(work_dir, \"s2_ts.gif\")"
   ]
  },
  {
   "cell_type": "code",
   "execution_count": null,
   "id": "8bbe95e5",
   "metadata": {},
   "outputs": [],
   "source": [
    "geemap.download_ee_video(s2CompCol, gifParams, out_gif)"
   ]
  },
  {
   "cell_type": "markdown",
   "id": "aac58cf0",
   "metadata": {},
   "source": [
    "##### Add animated text to GIF"
   ]
  },
  {
   "cell_type": "code",
   "execution_count": null,
   "id": "c9a648b5",
   "metadata": {},
   "outputs": [],
   "source": [
    "geemap.show_image(out_gif)"
   ]
  },
  {
   "cell_type": "code",
   "execution_count": null,
   "id": "f9093280",
   "metadata": {},
   "outputs": [],
   "source": [
    "texted_gif = os.path.join(work_dir, \"s2_ts_text.gif\")\n",
    "geemap.add_text_to_gif(out_gif, texted_gif, xy=('3%', '5%'), text_sequence=2015, font_size=30, font_color='#ffffff', add_progress_bar=False, duration=1000)"
   ]
  },
  {
   "cell_type": "code",
   "execution_count": null,
   "id": "dfb2d3fe",
   "metadata": {},
   "outputs": [],
   "source": [
    "label = 'Burkina Faso Sentinel-2'\n",
    "geemap.add_text_to_gif(texted_gif, texted_gif, xy=('2%', '88%'), text_sequence=label, font_size=30, font_color='#ffffff', progress_bar_color='cyan', duration=1000)"
   ]
  },
  {
   "cell_type": "code",
   "execution_count": null,
   "id": "ece2b8f1",
   "metadata": {},
   "outputs": [],
   "source": [
    "geemap.show_image(texted_gif)"
   ]
  },
  {
   "cell_type": "code",
   "execution_count": null,
   "id": "38288b28",
   "metadata": {},
   "outputs": [],
   "source": [
    "geemap.download_ee_video(s2CompCol, gifParams, texted_gif)"
   ]
  },
  {
   "cell_type": "markdown",
   "id": "16161e75",
   "metadata": {},
   "source": [
    "#### Creating Sentinel-2 timelapse animation"
   ]
  },
  {
   "cell_type": "markdown",
   "id": "6fd870f1",
   "metadata": {},
   "source": [
    "##### Save as GIF"
   ]
  },
  {
   "cell_type": "code",
   "execution_count": null,
   "id": "e8ff19c2",
   "metadata": {},
   "outputs": [],
   "source": [
    "import os\n",
    "import ee\n",
    "import geemap"
   ]
  },
  {
   "cell_type": "code",
   "execution_count": null,
   "id": "71cc9d62",
   "metadata": {},
   "outputs": [],
   "source": [
    "Map = geemap.Map(center=(12.2395,  -1.5584), zoom=10, lite_mode=False) \n",
    "Map.add_basemap('HYBRID')\n",
    "Map"
   ]
  },
  {
   "cell_type": "code",
   "execution_count": null,
   "id": "379b7f5e",
   "metadata": {},
   "outputs": [],
   "source": [
    "bf_boarder = ee.FeatureCollection('USDOS/LSIB_SIMPLE/2017')\\\n",
    "               .filter(ee.Filter.eq('country_na', 'Burkina Faso'))\n",
    "\n",
    "aoi = ee.Geometry.Polygon(\n",
    "    [[[-3.090598913590661, 11.131225424381887],\n",
    "      [-3.0308607544109734,11.131225424381887],\n",
    "        [-3.0308607544109734,11.170804254529743],\n",
    "        [-3.090598913590661,11.170804254529743],\n",
    "        [-3.090598913590661,11.131225424381887]]], None, False)"
   ]
  },
  {
   "cell_type": "code",
   "execution_count": null,
   "id": "ddb6c8ee",
   "metadata": {},
   "outputs": [],
   "source": [
    "sentinel_2_ts = geemap.sentinel2_timeseries(roi=aoi, start_year=2015, end_year=2020, start_date='06-24', end_date='12-31')"
   ]
  },
  {
   "cell_type": "code",
   "execution_count": null,
   "id": "478d37e4",
   "metadata": {},
   "outputs": [],
   "source": [
    "# Function to mask clouds using the Sentinel-2 QA band.\n",
    "def maskS2clouds(image):\n",
    "  qa = image.select('QA60')\n",
    "\n",
    "  # Bits 10 and 11 are clouds and cirrus, respectively.\n",
    "  cloudBitMask = ee.Number(2).pow(10).int()\n",
    "  cirrusBitMask = ee.Number(2).pow(11).int()\n",
    "\n",
    "  # Both flags should be set to zero, indicating clear conditions.\n",
    "  mask = qa.bitwiseAnd(cloudBitMask).eq(0).And(\n",
    "             qa.bitwiseAnd(cirrusBitMask).eq(0))\n",
    "\n",
    "  # Return the masked and scaled data.\n",
    "  return image.updateMask(mask).divide(10000)\n",
    "\n",
    "S2 = ee.ImageCollection(\"COPERNICUS/S2\") \\\n",
    "       .filterBounds(aoi) \\\n",
    "       .filterDate('2020-06-24', '2020-12-31') "
   ]
  },
  {
   "cell_type": "code",
   "execution_count": null,
   "id": "674dae15",
   "metadata": {},
   "outputs": [],
   "source": [
    "# Define arguments for animation function parameters.\n",
    "video_args = {\n",
    "  'region': aoi,\n",
    "  'framesPerSecond': 2,\n",
    "  'bands': ['B8', 'B4', 'B3'],\n",
    "}"
   ]
  },
  {
   "cell_type": "code",
   "execution_count": null,
   "id": "e521e712",
   "metadata": {},
   "outputs": [],
   "source": [
    "work_dir = os.path.join(os.path.expanduser(\"~\"), 'Downloads')\n",
    "if not os.path.exists(work_dir):\n",
    "    os.makedirs(work_dir)\n",
    "out_gif = os.path.join(work_dir, \"s2_ts.gif\")"
   ]
  },
  {
   "cell_type": "code",
   "execution_count": null,
   "id": "3ef7179c",
   "metadata": {},
   "outputs": [],
   "source": [
    "geemap.download_ee_video(S2, video_args, out_gif)"
   ]
  },
  {
   "cell_type": "code",
   "execution_count": null,
   "id": "3805d4d0",
   "metadata": {},
   "outputs": [],
   "source": [
    "geemap.download_ee_video(sentinel_2_ts, video_args, out_gif)"
   ]
  },
  {
   "cell_type": "code",
   "execution_count": null,
   "id": "0241ce98",
   "metadata": {},
   "outputs": [],
   "source": [
    "geemap.show_image(out_gif)"
   ]
  },
  {
   "cell_type": "markdown",
   "id": "c4f45dd0",
   "metadata": {},
   "source": [
    "##### Add animated text to GIF"
   ]
  },
  {
   "cell_type": "code",
   "execution_count": null,
   "id": "0168d58d",
   "metadata": {},
   "outputs": [],
   "source": [
    "texted_gif = os.path.join(work_dir, \"s2_ts_text.gif\")\n",
    "geemap.add_text_to_gif(out_gif, texted_gif, xy=('3%', '5%'), text_sequence=1985, font_size=30, font_color='#ffffff', add_progress_bar=False, duration=1000)"
   ]
  },
  {
   "cell_type": "code",
   "execution_count": null,
   "id": "96e538d0",
   "metadata": {},
   "outputs": [],
   "source": [
    "label = 'Burkina Faso landsat'\n",
    "geemap.add_text_to_gif(texted_gif, texted_gif, xy=('2%', '88%'), text_sequence=label, font_size=30, font_color='#ffffff', progress_bar_color='cyan', duration=1000)"
   ]
  },
  {
   "cell_type": "code",
   "execution_count": null,
   "id": "c4759dfc",
   "metadata": {},
   "outputs": [],
   "source": [
    "geemap.show_image(texted_gif)"
   ]
  },
  {
   "cell_type": "markdown",
   "id": "88a358a3",
   "metadata": {},
   "source": [
    "#### Proba-V timeseries"
   ]
  },
  {
   "cell_type": "code",
   "execution_count": null,
   "id": "3aeae703",
   "metadata": {},
   "outputs": [],
   "source": [
    "import ee\n",
    "import geemap"
   ]
  },
  {
   "cell_type": "code",
   "execution_count": null,
   "id": "ef96255f",
   "metadata": {},
   "outputs": [],
   "source": [
    "Map = geemap.Map(center=(12.2395,  -1.5584), zoom=10, lite_mode=False) \n",
    "Map.add_basemap('HYBRID')\n",
    "Map"
   ]
  },
  {
   "cell_type": "code",
   "execution_count": null,
   "id": "b76cb042",
   "metadata": {},
   "outputs": [],
   "source": [
    "bf_boarder = ee.FeatureCollection('USDOS/LSIB_SIMPLE/2017')\\\n",
    "               .filter(ee.Filter.eq('country_na', 'Burkina Faso'))"
   ]
  },
  {
   "cell_type": "code",
   "execution_count": null,
   "id": "5226dc35",
   "metadata": {},
   "outputs": [],
   "source": [
    "def year_image(year):\n",
    "    start_date = ee.Date.fromYMD(year, 10, 1)\n",
    "    end_date = start_date.advance(1, 'year')\n",
    "    \n",
    "    image = ee.ImageCollection('VITO/PROBAV/C1/S1_TOC_100M') \\\n",
    "        .filterBounds(bf_boarder) \\\n",
    "        .filterDate(start_date, end_date) \\\n",
    "        .sort(\"CLOUD_COVER_PERCENTAGE\") \\\n",
    "        .first()\n",
    "    \n",
    "    return image"
   ]
  },
  {
   "cell_type": "code",
   "execution_count": null,
   "id": "e3b2e296",
   "metadata": {},
   "outputs": [],
   "source": [
    "start_year = 2013\n",
    "end_year = 2020\n",
    "years = ee.List.sequence(start_year, end_year)\n",
    "year_list = years.getInfo()\n",
    "print(year_list)"
   ]
  },
  {
   "cell_type": "code",
   "execution_count": null,
   "id": "d0b76d3b",
   "metadata": {},
   "outputs": [],
   "source": [
    "images = years.map(year_image)\n",
    "count = images.size().getInfo()"
   ]
  },
  {
   "cell_type": "code",
   "execution_count": null,
   "id": "120540d0",
   "metadata": {},
   "outputs": [],
   "source": [
    "ee.ImageCollection(images).aggregate_array(\"CLOUD_COVER_PERCENTAGE\").getInfo()"
   ]
  },
  {
   "cell_type": "code",
   "execution_count": null,
   "id": "31a99a73",
   "metadata": {},
   "outputs": [],
   "source": [
    "vis_params = {\n",
    "    'min': 20.0,\n",
    "    'max': 2000.0,\n",
    "    'bands' :['RED', 'NIR', 'BLUE']\n",
    "}"
   ]
  },
  {
   "cell_type": "code",
   "execution_count": null,
   "id": "36c82861",
   "metadata": {},
   "outputs": [],
   "source": [
    "for index in range(0, count):\n",
    "    image = ee.Image(images.get(index))\n",
    "    layer_name = \"Image \" + str(year_list[index])\n",
    "    Map.addLayer(image, vis_params, layer_name, False)"
   ]
  },
  {
   "cell_type": "markdown",
   "id": "67ca5b55",
   "metadata": {},
   "source": [
    "# Classification"
   ]
  },
  {
   "cell_type": "markdown",
   "id": "90199e0c",
   "metadata": {},
   "source": [
    "##### Import libraries and create interactive map"
   ]
  },
  {
   "cell_type": "code",
   "execution_count": null,
   "id": "78bf2c2e",
   "metadata": {},
   "outputs": [],
   "source": [
    "# Import libraries\n",
    "import ee\n",
    "import geemap"
   ]
  },
  {
   "cell_type": "code",
   "execution_count": null,
   "id": "744d9815",
   "metadata": {},
   "outputs": [],
   "source": [
    "Map = geemap.Map(center=(12.2395,  -1.5584), zoom=10, lite_mode=False) \n",
    "Map.add_basemap('HYBRID')\n",
    "Map"
   ]
  },
  {
   "cell_type": "markdown",
   "id": "462ed391",
   "metadata": {},
   "source": [
    "##### Research area"
   ]
  },
  {
   "cell_type": "code",
   "execution_count": null,
   "id": "f2c8e411",
   "metadata": {},
   "outputs": [],
   "source": [
    "bf_boarder = ee.FeatureCollection('USDOS/LSIB_SIMPLE/2017')\\\n",
    "               .filter(ee.Filter.eq('country_na', 'Burkina Faso'))"
   ]
  },
  {
   "cell_type": "markdown",
   "id": "a8fd6c42",
   "metadata": {},
   "source": [
    "## Using S2 "
   ]
  },
  {
   "cell_type": "code",
   "execution_count": null,
   "id": "35af5a79",
   "metadata": {},
   "outputs": [],
   "source": [
    "# Import libraries\n",
    "import ee\n",
    "import geemap\n"
   ]
  },
  {
   "cell_type": "code",
   "execution_count": null,
   "id": "73f0c32a",
   "metadata": {},
   "outputs": [],
   "source": [
    "# ee.Initialize()"
   ]
  },
  {
   "cell_type": "code",
   "execution_count": null,
   "id": "77b79ee5",
   "metadata": {},
   "outputs": [],
   "source": [
    "Map = geemap.Map(center=(12.2395,  -1.5584), zoom=10, lite_mode=False) \n",
    "Map.add_basemap('HYBRID')\n",
    "Map"
   ]
  },
  {
   "cell_type": "code",
   "execution_count": null,
   "id": "2d596a12",
   "metadata": {},
   "outputs": [],
   "source": [
    "bf_boarder = ee.FeatureCollection('USDOS/LSIB_SIMPLE/2017')\\\n",
    "               .filter(ee.Filter.eq('country_na', 'Burkina Faso'))"
   ]
  },
  {
   "cell_type": "code",
   "execution_count": null,
   "id": "9783c79f",
   "metadata": {},
   "outputs": [],
   "source": [
    "def maskS2clouds(image):\n",
    "  qa = image.select('QA60')\n",
    "\n",
    "  # Bits 10 and 11 are clouds and cirrus, respectively.\n",
    "  cloudBitMask = 1 << 10\n",
    "  cirrusBitMask = 1 << 11\n",
    "\n",
    "  # Both flags should be set to zero, indicating clear conditions.\n",
    "  mask = qa.bitwiseAnd(cloudBitMask).eq(0) \\\n",
    "      .And(qa.bitwiseAnd(cirrusBitMask).eq(0))\n",
    "\n",
    "  return image.updateMask(mask).divide(10000)\n",
    "\n",
    "# Map the function over one year of data and take the median.\n",
    "# Load Sentinel-2 TOA reflectance data.\n",
    "dataset = ee.ImageCollection('COPERNICUS/S2') \\\n",
    "                  .filterDate('2019-01-01', '2019-12-31') \\\n",
    "                  .filter(ee.Filter.lt('CLOUDY_PIXEL_PERCENTAGE', 20)) \\\n",
    "                  .map(maskS2clouds) \\\n",
    "                  .filterBounds(bf_boarder)\n",
    "\n",
    "BF_data = dataset.median()"
   ]
  },
  {
   "cell_type": "markdown",
   "id": "6a6a1939",
   "metadata": {},
   "source": [
    "##### Load classification map"
   ]
  },
  {
   "cell_type": "code",
   "execution_count": null,
   "id": "5c9d2db8",
   "metadata": {},
   "outputs": [],
   "source": [
    "# Convert the google earth engine class table to legend\n",
    "Map = geemap.Map()\n",
    "\n",
    "ee_class_table = \"\"\"\n",
    "\n",
    "Value\tColor\tDescription\n",
    "0\t282828\tUnknown. No or not enough satellite data available.\n",
    "20\tFFBB22\tShrubs. Woody perennial plants with persistent and woody stems and without any defined main stem being less than 5 m tall. The shrub foliage can be either evergreen or deciduous.\n",
    "30\tFFFF4C\tHerbaceous vegetation. Plants without persistent stem or shoots above ground and lacking definite firm structure. Tree and shrub cover is less than 10 %.\n",
    "40\tF096FF\tCultivated and managed vegetation / agriculture. Lands covered with temporary crops followed by harvest and a bare soil period (e.g., single and multiple cropping systems). Note that perennial woody crops will be classified as the appropriate forest or shrub land cover type.\n",
    "50\tFA0000\tUrban / built up. Land covered by buildings and other man-made structures.\n",
    "60\tB4B4B4\tBare / sparse vegetation. Lands with exposed soil, sand, or rocks and never has more than 10 % vegetated cover during any time of the year.\n",
    "70\tF0F0F0\tSnow and ice. Lands under snow or ice cover throughout the year.\n",
    "80\t0032C8\tPermanent water bodies. Lakes, reservoirs, and rivers. Can be either fresh or salt-water bodies.\n",
    "90\t0096A0\tHerbaceous wetland. Lands with a permanent mixture of water and herbaceous or woody vegetation. The vegetation can be present in either salt, brackish, or fresh water.\n",
    "100\tFAE6A0\tMoss and lichen.\n",
    "111\t58481F\tClosed forest, evergreen needle leaf. Tree canopy >70 %, almost all needle leaf trees remain green all year. Canopy is never without green foliage.\n",
    "112\t009900\tClosed forest, evergreen broad leaf. Tree canopy >70 %, almost all broadleaf trees remain green year round. Canopy is never without green foliage.\n",
    "113\t70663E\tClosed forest, deciduous needle leaf. Tree canopy >70 %, consists of seasonal needle leaf tree communities with an annual cycle of leaf-on and leaf-off periods.\n",
    "114\t00CC00\tClosed forest, deciduous broad leaf. Tree canopy >70 %, consists of seasonal broadleaf tree communities with an annual cycle of leaf-on and leaf-off periods.\n",
    "115\t4E751F\tClosed forest, mixed.\n",
    "116\t007800\tClosed forest, not matching any of the other definitions.\n",
    "121\t666000\tOpen forest, evergreen needle leaf. Top layer- trees 15-70 % and second layer- mixed of shrubs and grassland, almost all needle leaf trees remain green all year. Canopy is never without green foliage.\n",
    "122\t8DB400\tOpen forest, evergreen broad leaf. Top layer- trees 15-70 % and second layer- mixed of shrubs and grassland, almost all broadleaf trees remain green year round. Canopy is never without green foliage.\n",
    "123\t8D7400\tOpen forest, deciduous needle leaf. Top layer- trees 15-70 % and second layer- mixed of shrubs and grassland, consists of seasonal needle leaf tree communities with an annual cycle of leaf-on and leaf-off periods.\n",
    "124\tA0DC00\tOpen forest, deciduous broad leaf. Top layer- trees 15-70 % and second layer- mixed of shrubs and grassland, consists of seasonal broadleaf tree communities with an annual cycle of leaf-on and leaf-off periods.\n",
    "125\t929900\tOpen forest, mixed.\n",
    "126\t648C00\tOpen forest, not matching any of the other definitions.\n",
    "200\t000080\tOceans, seas. Can be either fresh or salt-water bodies.\n",
    "\n",
    "\"\"\""
   ]
  },
  {
   "cell_type": "code",
   "execution_count": null,
   "id": "d65a870f",
   "metadata": {},
   "outputs": [],
   "source": [
    "lc = ee.Image(\"COPERNICUS/Landcover/100m/Proba-V-C3/Global/2019\").select('discrete_classification')\n",
    "\n",
    "# dataset = ee.ImageCollection(\"COPERNICUS/Landcover/100m/Proba-V/Global\").select('discrete_classification')\n",
    "\n",
    "vis_params = {\n",
    "  'palette': ['282828', 'FFBB22', 'FFFF4C', 'F096FF', 'FA0000', 'B4B4B4', 'F0F0F0', '0032C8', '0096A0', 'FAE6A0', '58481F', '009900', '70663E', '00CC00', '4E751F', '007800', '666000', '8DB400', '8D7400', 'A0DC00', '929900', '648C00', '000080']}\n",
    "\n",
    "lc_raw = lc.clip(bf_boarder)\n",
    "\n",
    "Map.setCenter(-3.06244, 11.146104)\n",
    "Map.addLayer(lc_raw, vis_params, 'LC_BF')\n",
    "Map"
   ]
  },
  {
   "cell_type": "markdown",
   "id": "7f035e93",
   "metadata": {},
   "source": [
    "##### Prepare for consecutive class labels"
   ]
  },
  {
   "cell_type": "code",
   "execution_count": null,
   "id": "9b9204de",
   "metadata": {},
   "outputs": [],
   "source": [
    "raw_class_values = lc_raw.get('discrete_classification_class_values').getInfo()\n",
    "class_palette = lc_raw.get('discrete_classification_class_palette').getInfo()\n"
   ]
  },
  {
   "cell_type": "code",
   "execution_count": null,
   "id": "1ac72256",
   "metadata": {},
   "outputs": [],
   "source": [
    "n_classes = len(raw_class_values)\n",
    "new_class_values = list(range(0, n_classes))\n",
    "new_class_values"
   ]
  },
  {
   "cell_type": "code",
   "execution_count": null,
   "id": "860fe9fd",
   "metadata": {},
   "outputs": [],
   "source": [
    "lc_new = lc_raw.remap(raw_class_values, new_class_values).select(['remapped'], ['discrete_classification'])\n",
    "Map.setCenter(-3.06244, 11.146104)\n",
    "Map.addLayer(lc_new, vis_params, 'LC_BF_new')\n",
    "Map"
   ]
  },
  {
   "cell_type": "code",
   "execution_count": null,
   "id": "2899ed9d",
   "metadata": {},
   "outputs": [],
   "source": [
    "# Set classification values and palette\n",
    "lc_new = lc_new.set('discrete_classification_class_values', new_class_values)\n",
    "lc_new = lc_new.set('discrete_classification_class_palette', class_palette)\n",
    "\n",
    "# Check classification values and palette\n",
    "lc_class_values = lc_new.get('discrete_classification_class_values').getInfo()\n",
    "lc_class_palette = lc_new.get('discrete_classification_class_palette').getInfo()\n"
   ]
  },
  {
   "cell_type": "code",
   "execution_count": null,
   "id": "ef6e7b0a",
   "metadata": {},
   "outputs": [],
   "source": [
    "Map.addLayer(lc_new, {}, 'lc_new_bf')\n",
    "Map"
   ]
  },
  {
   "cell_type": "markdown",
   "id": "4b7d17f1",
   "metadata": {},
   "source": [
    "##### Make training data"
   ]
  },
  {
   "cell_type": "code",
   "execution_count": null,
   "id": "ea6259cc",
   "metadata": {},
   "outputs": [],
   "source": [
    "# Making the training dataset\n",
    "points = lc_new.sample(**{\n",
    "    'region': bf_boarder,\n",
    "    'scale': 30,\n",
    "    'numPixels': 10000,\n",
    "    'seed': 0,\n",
    "    'geometries': True  # Set this to False to ignore geometries\n",
    "})\n",
    "\n",
    "Map.addLayer(points, {}, 'training', False)\n",
    "Map"
   ]
  },
  {
   "cell_type": "markdown",
   "id": "a9165b6f",
   "metadata": {},
   "source": [
    "##### Split training and testing"
   ]
  },
  {
   "cell_type": "code",
   "execution_count": null,
   "id": "a8a87541",
   "metadata": {},
   "outputs": [],
   "source": [
    "# Use these bands for prediction.\n",
    "bands = ['B1', 'B2', 'B3', 'B4', 'B5', 'B6', 'B7', 'B8', 'B11', 'B12']\n",
    "\n",
    "# This property of the table stores the land cover labels.\n",
    "label = 'discrete_classification'\n",
    "\n",
    "# Overlay the points on the imagery to get training.\n",
    "sample_BF = BF_data.select(bands).sampleRegions(**{\n",
    "  'collection': points,\n",
    "  'properties': [label],\n",
    "  'scale': 30\n",
    "})\n",
    "\n",
    "# Adds a column of deterministic pseudorandom numbers. \n",
    "sample_BF = sample_BF.randomColumn()\n",
    "\n",
    "split = 0.7\n",
    "\n",
    "training_BF = sample_BF.filter(ee.Filter.lt('random', split))\n",
    "validation_BF = sample_BF.filter(ee.Filter.gte('random', split))"
   ]
  },
  {
   "cell_type": "code",
   "execution_count": null,
   "id": "c2e888a2",
   "metadata": {},
   "outputs": [],
   "source": [
    "#print(validation_BF.first().getInfo())"
   ]
  },
  {
   "cell_type": "code",
   "execution_count": null,
   "id": "f2368f44",
   "metadata": {},
   "outputs": [],
   "source": [
    "training_BF.first().getInfo()"
   ]
  },
  {
   "cell_type": "code",
   "execution_count": null,
   "id": "043144de",
   "metadata": {},
   "outputs": [],
   "source": [
    "validation_BF.first().getInfo()"
   ]
  },
  {
   "cell_type": "code",
   "execution_count": null,
   "id": "ad9531f3",
   "metadata": {},
   "outputs": [],
   "source": [
    "classifier_BF = ee.Classifier.smileRandomForest(10).train(training_BF, label, bands)\n"
   ]
  },
  {
   "cell_type": "code",
   "execution_count": null,
   "id": "3b41a8c7",
   "metadata": {},
   "outputs": [],
   "source": [
    "print(classifier_BF)"
   ]
  },
  {
   "cell_type": "markdown",
   "id": "a789fa7e",
   "metadata": {},
   "source": [
    "##### Classify the image"
   ]
  },
  {
   "cell_type": "code",
   "execution_count": null,
   "id": "ef2b731e",
   "metadata": {},
   "outputs": [],
   "source": [
    "# Classify the image with the same bands used for training.\n",
    "# result_Dano = Dano_data.select(bands).classify(classifier)\n",
    "result_BF = BF_data.select(bands).classify(classifier_BF)\n",
    "\n",
    "result_BF = result_BF.clip(bf_boarder)"
   ]
  },
  {
   "cell_type": "code",
   "execution_count": null,
   "id": "78293b8b",
   "metadata": {},
   "outputs": [],
   "source": [
    "# # Display the clusters with random colors.\n",
    "# Map.addLayer(result_Dano.randomVisualizer(), vis_params, 'Dano_classfied')\n",
    "Map.addLayer(result_BF.randomVisualizer(), {}, 'BF_classfied')\n",
    "Map"
   ]
  },
  {
   "cell_type": "markdown",
   "id": "23b77cea",
   "metadata": {},
   "source": [
    "##### Render categorical map"
   ]
  },
  {
   "cell_type": "code",
   "execution_count": null,
   "id": "f6a78600",
   "metadata": {},
   "outputs": [],
   "source": [
    "class_values = lc_new.get('discrete_classification_class_values').getInfo()\n",
    "print(class_values)"
   ]
  },
  {
   "cell_type": "code",
   "execution_count": null,
   "id": "c116cab5",
   "metadata": {},
   "outputs": [],
   "source": [
    "class_palette = lc_new.get('discrete_classification_class_palette').getInfo()\n",
    "print(class_palette)"
   ]
  },
  {
   "cell_type": "code",
   "execution_count": null,
   "id": "97d6c2b8",
   "metadata": {},
   "outputs": [],
   "source": [
    "landcover_BF = result_BF.set('classification_class_values', class_values)\n",
    "landcover_BF = landcover_BF.set('classification_class_palette', class_palette)"
   ]
  },
  {
   "cell_type": "code",
   "execution_count": null,
   "id": "5c33d052",
   "metadata": {},
   "outputs": [],
   "source": [
    "# Map.addLayer(landcover_Dano, {}, 'Classification_Dano')\n",
    "Map.addLayer(landcover_BF, {}, 'Classification_BF')\n",
    "Map"
   ]
  },
  {
   "cell_type": "markdown",
   "id": "03a54d3d",
   "metadata": {},
   "source": [
    "##### Visualize the reults"
   ]
  },
  {
   "cell_type": "code",
   "execution_count": null,
   "id": "3a6f21fc",
   "metadata": {},
   "outputs": [],
   "source": [
    "print('Change layer opacity:')\n",
    "cluster_layer = Map.layers[-1]\n",
    "cluster_layer.interact(opacity=(0, 1, 0.1))"
   ]
  },
  {
   "cell_type": "markdown",
   "id": "bd1ec658",
   "metadata": {},
   "source": [
    "##### Add legned to the map"
   ]
  },
  {
   "cell_type": "code",
   "execution_count": null,
   "id": "6a83b323",
   "metadata": {},
   "outputs": [],
   "source": [
    "Map.add_legend(builtin_legend='COPERNICUS/Landcover/100m/Proba-V/Global')\n",
    "Map"
   ]
  },
  {
   "cell_type": "markdown",
   "id": "e3fdf599",
   "metadata": {},
   "source": [
    "## Accuracy assessment"
   ]
  },
  {
   "cell_type": "markdown",
   "id": "3e28b08a",
   "metadata": {},
   "source": [
    "### Training dataset"
   ]
  },
  {
   "cell_type": "code",
   "execution_count": null,
   "id": "7d49ea8e",
   "metadata": {},
   "outputs": [],
   "source": [
    "# train_accuracy = classifier.confusionMatrix()\n",
    "train_accuracy_BF = classifier_BF.confusionMatrix()\n",
    "#print(train_accuracy_BF)\n",
    "train_accuracy_BF.accuracy().getInfo()"
   ]
  },
  {
   "cell_type": "code",
   "execution_count": null,
   "id": "bfac8109",
   "metadata": {},
   "outputs": [],
   "source": [
    "train_accuracy_BF.getInfo()"
   ]
  },
  {
   "cell_type": "code",
   "execution_count": null,
   "id": "96ceafa3",
   "metadata": {},
   "outputs": [],
   "source": [
    "#print(train_accuracy_BF.accuracy().getInfo()\n",
    "print(train_accuracy_BF.accuracy())"
   ]
  },
  {
   "cell_type": "code",
   "execution_count": null,
   "id": "1deb839d",
   "metadata": {},
   "outputs": [],
   "source": [
    "train_accuracy_BF.kappa().getInfo()"
   ]
  },
  {
   "cell_type": "code",
   "execution_count": null,
   "id": "52f82acf",
   "metadata": {},
   "outputs": [],
   "source": [
    "train_accuracy_BF.producersAccuracy().getInfo()"
   ]
  },
  {
   "cell_type": "code",
   "execution_count": null,
   "id": "6e451c24",
   "metadata": {},
   "outputs": [],
   "source": [
    "train_accuracy_BF.consumersAccuracy().getInfo()"
   ]
  },
  {
   "cell_type": "markdown",
   "id": "58c08efa",
   "metadata": {},
   "source": [
    "### Validation dataset"
   ]
  },
  {
   "cell_type": "code",
   "execution_count": null,
   "id": "0afd7371",
   "metadata": {},
   "outputs": [],
   "source": [
    "# validated = validation.classify(classifier)\n",
    "validated_BF = validation_BF.classify(classifier_BF)"
   ]
  },
  {
   "cell_type": "code",
   "execution_count": null,
   "id": "aa5b53dd",
   "metadata": {},
   "outputs": [],
   "source": [
    "validated_BF.first().getInfo()"
   ]
  },
  {
   "cell_type": "code",
   "execution_count": null,
   "id": "8dcdc83d",
   "metadata": {},
   "outputs": [],
   "source": [
    "test_accuracy_BF = validated_BF.errorMatrix('discrete_classification', 'classification')"
   ]
  },
  {
   "cell_type": "code",
   "execution_count": null,
   "id": "05d96c51",
   "metadata": {},
   "outputs": [],
   "source": [
    "test_accuracy_BF.getInfo()"
   ]
  },
  {
   "cell_type": "code",
   "execution_count": null,
   "id": "bf9e3966",
   "metadata": {},
   "outputs": [],
   "source": [
    "test_accuracy_BF.accuracy().getInfo()"
   ]
  },
  {
   "cell_type": "code",
   "execution_count": null,
   "id": "f0e75a5c",
   "metadata": {},
   "outputs": [],
   "source": [
    "test_accuracy_BF.kappa().getInfo()"
   ]
  },
  {
   "cell_type": "code",
   "execution_count": null,
   "id": "9f65322c",
   "metadata": {},
   "outputs": [],
   "source": [
    "test_accuracy_BF.producersAccuracy().getInfo()"
   ]
  },
  {
   "cell_type": "markdown",
   "id": "4da2823b",
   "metadata": {},
   "source": [
    "### Download the confusion matrix"
   ]
  },
  {
   "cell_type": "code",
   "execution_count": null,
   "id": "7e9210aa",
   "metadata": {},
   "outputs": [],
   "source": [
    "import csv\n",
    "import os\n",
    "\n",
    "out_dir = os.path.join(os.path.expanduser('~'), 'Downloads')\n",
    "training_csv = os.path.join(out_dir, 'train_accuracy_BF.csv')\n",
    "testing_csv = os.path.join(out_dir, 'test_accuracy_BF.csv')\n",
    "\n",
    "with open(training_csv, \"w\", newline=\"\") as f:\n",
    "    writer = csv.writer(f)\n",
    "    writer.writerows(train_accuracy_BF.getInfo())\n",
    "    \n",
    "with open(testing_csv, \"w\", newline=\"\") as f:\n",
    "    writer = csv.writer(f)\n",
    "    writer.writerows(test_accuracy_BF.getInfo())"
   ]
  },
  {
   "cell_type": "markdown",
   "id": "eb880c2a",
   "metadata": {},
   "source": [
    "### Reclassify land cover map"
   ]
  },
  {
   "cell_type": "code",
   "execution_count": null,
   "id": "ec501f6b",
   "metadata": {},
   "outputs": [],
   "source": [
    "landcover_BF_2 = landcover_BF.remap(new_class_values, class_values).select(['remapped'], ['classification'])"
   ]
  },
  {
   "cell_type": "code",
   "execution_count": null,
   "id": "a6e85afa",
   "metadata": {},
   "outputs": [],
   "source": [
    "landcover_BF_2 = landcover_BF_2.set('classification_class_values', class_values)\n",
    "landcover_BF_2 = landcover_BF_2.set('classification_class_palette', class_palette)"
   ]
  },
  {
   "cell_type": "code",
   "execution_count": null,
   "id": "95f81f3e",
   "metadata": {},
   "outputs": [],
   "source": [
    "Map.addLayer(landcover_BF_2, {}, 'Final classification result')\n",
    "Map"
   ]
  },
  {
   "cell_type": "markdown",
   "id": "1e1557d1",
   "metadata": {},
   "source": [
    "### Export the results"
   ]
  },
  {
   "cell_type": "code",
   "execution_count": null,
   "id": "c66d0ffd",
   "metadata": {},
   "outputs": [],
   "source": [
    "mask = bf_boarder.geometry()\n",
    "import os\n",
    "out_dir = os.path.join(os.path.expanduser('~'), 'Downloads')\n",
    "out_file = os.path.join(out_dir, 'final classification.tif')\n",
    "geemap.ee_export_image(landcover_BF_2, filename=out_file, region=mask, scale=900)"
   ]
  },
  {
   "cell_type": "markdown",
   "id": "cbd8d74e",
   "metadata": {},
   "source": [
    "Export the result to Google Drive"
   ]
  },
  {
   "cell_type": "code",
   "execution_count": null,
   "id": "13195ad0",
   "metadata": {},
   "outputs": [],
   "source": [
    "# geemap.ee_export_image_to_drive(landcover_BF_2, description='landcover', folder='export', scale=900"
   ]
  }
 ],
 "metadata": {
  "hide_input": false,
  "kernelspec": {
   "display_name": "Python 3",
   "language": "python",
   "name": "python3"
  },
  "language_info": {
   "codemirror_mode": {
    "name": "ipython",
    "version": 3
   },
   "file_extension": ".py",
   "mimetype": "text/x-python",
   "name": "python",
   "nbconvert_exporter": "python",
   "pygments_lexer": "ipython3",
   "version": "3.9.5"
  },
  "toc": {
   "base_numbering": 1,
   "nav_menu": {},
   "number_sections": true,
   "sideBar": true,
   "skip_h1_title": false,
   "title_cell": "Table of Contents",
   "title_sidebar": "Contents",
   "toc_cell": false,
   "toc_position": {
    "height": "calc(100% - 180px)",
    "left": "10px",
    "top": "150px",
    "width": "386.983px"
   },
   "toc_section_display": true,
   "toc_window_display": true
  },
  "varInspector": {
   "cols": {
    "lenName": 16,
    "lenType": 16,
    "lenVar": 40
   },
   "kernels_config": {
    "python": {
     "delete_cmd_postfix": "",
     "delete_cmd_prefix": "del ",
     "library": "var_list.py",
     "varRefreshCmd": "print(var_dic_list())"
    },
    "r": {
     "delete_cmd_postfix": ") ",
     "delete_cmd_prefix": "rm(",
     "library": "var_list.r",
     "varRefreshCmd": "cat(var_dic_list()) "
    }
   },
   "types_to_exclude": [
    "module",
    "function",
    "builtin_function_or_method",
    "instance",
    "_Feature"
   ],
   "window_display": false
  }
 },
 "nbformat": 4,
 "nbformat_minor": 5
}
